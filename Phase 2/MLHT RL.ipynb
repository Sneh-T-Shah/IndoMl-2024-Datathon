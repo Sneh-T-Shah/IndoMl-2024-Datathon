{
 "cells": [
  {
   "cell_type": "markdown",
   "id": "46dcac4b",
   "metadata": {
    "papermill": {
     "duration": 0.011775,
     "end_time": "2024-10-30T20:12:17.602752",
     "exception": false,
     "start_time": "2024-10-30T20:12:17.590977",
     "status": "completed"
    },
    "tags": []
   },
   "source": [
    "<h1>Do not use the data saved in v4 version of data as it is from v6 added the retailer thing</h1>"
   ]
  },
  {
   "cell_type": "code",
   "execution_count": 1,
   "id": "e2a23b74",
   "metadata": {
    "_cell_guid": "b1076dfc-b9ad-4769-8c92-a6c4dae69d19",
    "_uuid": "8f2839f25d086af736a60e9eeb907d3b93b6e0e5",
    "execution": {
     "iopub.execute_input": "2024-10-30T20:12:17.628004Z",
     "iopub.status.busy": "2024-10-30T20:12:17.627625Z",
     "iopub.status.idle": "2024-10-30T20:12:28.388262Z",
     "shell.execute_reply": "2024-10-30T20:12:28.387402Z"
    },
    "papermill": {
     "duration": 10.776579,
     "end_time": "2024-10-30T20:12:28.390682",
     "exception": false,
     "start_time": "2024-10-30T20:12:17.614103",
     "status": "completed"
    },
    "tags": []
   },
   "outputs": [],
   "source": [
    "import pandas as pd\n",
    "import torch\n",
    "from sklearn.metrics import accuracy_score\n",
    "\n",
    "df_features = pd.read_json('/kaggle/input/indoml-phase2/train.features',lines=True)\n",
    "df_labels = pd.read_json('/kaggle/input/indoml-phase2/train.labels',lines=True)"
   ]
  },
  {
   "cell_type": "code",
   "execution_count": 2,
   "id": "903d0723",
   "metadata": {
    "execution": {
     "iopub.execute_input": "2024-10-30T20:12:28.414605Z",
     "iopub.status.busy": "2024-10-30T20:12:28.413935Z",
     "iopub.status.idle": "2024-10-30T20:12:28.565498Z",
     "shell.execute_reply": "2024-10-30T20:12:28.564518Z"
    },
    "papermill": {
     "duration": 0.166265,
     "end_time": "2024-10-30T20:12:28.568078",
     "exception": false,
     "start_time": "2024-10-30T20:12:28.401813",
     "status": "completed"
    },
    "tags": []
   },
   "outputs": [],
   "source": [
    "df = pd.merge(df_features,df_labels,on=\"indoml_id\")"
   ]
  },
  {
   "cell_type": "code",
   "execution_count": 3,
   "id": "9b7e4a40",
   "metadata": {
    "execution": {
     "iopub.execute_input": "2024-10-30T20:12:28.591639Z",
     "iopub.status.busy": "2024-10-30T20:12:28.590958Z",
     "iopub.status.idle": "2024-10-30T20:12:28.594841Z",
     "shell.execute_reply": "2024-10-30T20:12:28.593953Z"
    },
    "papermill": {
     "duration": 0.017652,
     "end_time": "2024-10-30T20:12:28.596806",
     "exception": false,
     "start_time": "2024-10-30T20:12:28.579154",
     "status": "completed"
    },
    "tags": []
   },
   "outputs": [],
   "source": [
    "# df = df[:10]"
   ]
  },
  {
   "cell_type": "code",
   "execution_count": 4,
   "id": "f8a1b46b",
   "metadata": {
    "execution": {
     "iopub.execute_input": "2024-10-30T20:12:28.620637Z",
     "iopub.status.busy": "2024-10-30T20:12:28.619987Z",
     "iopub.status.idle": "2024-10-30T20:12:29.411749Z",
     "shell.execute_reply": "2024-10-30T20:12:29.410914Z"
    },
    "papermill": {
     "duration": 0.806224,
     "end_time": "2024-10-30T20:12:29.414084",
     "exception": false,
     "start_time": "2024-10-30T20:12:28.607860",
     "status": "completed"
    },
    "tags": []
   },
   "outputs": [],
   "source": [
    "from sklearn.preprocessing import LabelEncoder\n",
    "group_encoder = LabelEncoder()\n",
    "supergroup_encoder = LabelEncoder()\n",
    "module_encoder = LabelEncoder()\n",
    "brand_encoder = LabelEncoder()\n",
    "\n",
    "# Fit and transform each column\n",
    "df['group'] = group_encoder.fit_transform(df['group'])\n",
    "df['supergroup'] = supergroup_encoder.fit_transform(df['supergroup'])\n",
    "df['module'] = module_encoder.fit_transform(df['module'])\n",
    "df['brand'] = brand_encoder.fit_transform(df['brand'])"
   ]
  },
  {
   "cell_type": "code",
   "execution_count": 5,
   "id": "d6cb10a8",
   "metadata": {
    "execution": {
     "iopub.execute_input": "2024-10-30T20:12:29.437477Z",
     "iopub.status.busy": "2024-10-30T20:12:29.437136Z",
     "iopub.status.idle": "2024-10-30T20:12:31.662004Z",
     "shell.execute_reply": "2024-10-30T20:12:31.661176Z"
    },
    "papermill": {
     "duration": 2.23918,
     "end_time": "2024-10-30T20:12:31.664284",
     "exception": false,
     "start_time": "2024-10-30T20:12:29.425104",
     "status": "completed"
    },
    "tags": []
   },
   "outputs": [],
   "source": [
    "import torch\n",
    "import torch.nn as nn\n",
    "from torch.utils.data import DataLoader, Dataset\n",
    "from sklearn.model_selection import train_test_split\n",
    "from sklearn.metrics import accuracy_score\n",
    "from tqdm import tqdm\n",
    "import torch\n",
    "import torch.nn as nn\n",
    "import torch.nn.functional as F\n",
    "from transformers import DebertaModel, DebertaTokenizer\n",
    "from torch.utils.data import Dataset, DataLoader\n",
    "from sklearn.metrics import accuracy_score\n",
    "from torch.distributions import Categorical\n",
    "import numpy as np\n",
    "import time\n",
    "from torch.profiler import profile, record_function, ProfilerActivity"
   ]
  },
  {
   "cell_type": "code",
   "execution_count": 6,
   "id": "9aae01e3",
   "metadata": {
    "execution": {
     "iopub.execute_input": "2024-10-30T20:12:31.688198Z",
     "iopub.status.busy": "2024-10-30T20:12:31.687425Z",
     "iopub.status.idle": "2024-10-30T20:12:31.800524Z",
     "shell.execute_reply": "2024-10-30T20:12:31.799731Z"
    },
    "papermill": {
     "duration": 0.127656,
     "end_time": "2024-10-30T20:12:31.802970",
     "exception": false,
     "start_time": "2024-10-30T20:12:31.675314",
     "status": "completed"
    },
    "tags": []
   },
   "outputs": [],
   "source": [
    "# For using the new one\n",
    "# tokenizer = DebertaTokenizer.from_pretrained(\"microsoft/deberta-base\")\n",
    "\n",
    "# For loading the saved one\n",
    "model_dir = \"/kaggle/input/new-transformer-experiment-12-embedding-tmp/New_model\"\n",
    "tokenizer = DebertaTokenizer.from_pretrained(model_dir)"
   ]
  },
  {
   "cell_type": "code",
   "execution_count": 7,
   "id": "f985bc39",
   "metadata": {
    "execution": {
     "iopub.execute_input": "2024-10-30T20:12:31.826947Z",
     "iopub.status.busy": "2024-10-30T20:12:31.826296Z",
     "iopub.status.idle": "2024-10-30T20:12:31.889561Z",
     "shell.execute_reply": "2024-10-30T20:12:31.888565Z"
    },
    "papermill": {
     "duration": 0.077662,
     "end_time": "2024-10-30T20:12:31.891672",
     "exception": false,
     "start_time": "2024-10-30T20:12:31.814010",
     "status": "completed"
    },
    "tags": []
   },
   "outputs": [],
   "source": [
    "MAX_LENGTH = 12\n",
    "BATCH_SIZE = 64\n",
    "LEARNING_RATE = 5e-5\n",
    "NUM_EPOCHS = 12\n",
    "DEVICE = torch.device('cuda' if torch.cuda.is_available() else 'cpu')\n",
    "device=DEVICE\n",
    "PATIENCE = 5  # Early stopping patience\n",
    "PATIENCE_LR = 3  # Reduce LR on plateau patience"
   ]
  },
  {
   "cell_type": "code",
   "execution_count": 8,
   "id": "d08f2c23",
   "metadata": {
    "execution": {
     "iopub.execute_input": "2024-10-30T20:12:31.915008Z",
     "iopub.status.busy": "2024-10-30T20:12:31.914665Z",
     "iopub.status.idle": "2024-10-30T20:12:31.918804Z",
     "shell.execute_reply": "2024-10-30T20:12:31.917936Z"
    },
    "papermill": {
     "duration": 0.018033,
     "end_time": "2024-10-30T20:12:31.920808",
     "exception": false,
     "start_time": "2024-10-30T20:12:31.902775",
     "status": "completed"
    },
    "tags": []
   },
   "outputs": [],
   "source": [
    "from sklearn.metrics import accuracy_score\n",
    "import torch"
   ]
  },
  {
   "cell_type": "code",
   "execution_count": 9,
   "id": "8477ce35",
   "metadata": {
    "execution": {
     "iopub.execute_input": "2024-10-30T20:12:31.943713Z",
     "iopub.status.busy": "2024-10-30T20:12:31.943367Z",
     "iopub.status.idle": "2024-10-30T20:12:31.956286Z",
     "shell.execute_reply": "2024-10-30T20:12:31.955426Z"
    },
    "papermill": {
     "duration": 0.026609,
     "end_time": "2024-10-30T20:12:31.958286",
     "exception": false,
     "start_time": "2024-10-30T20:12:31.931677",
     "status": "completed"
    },
    "tags": []
   },
   "outputs": [],
   "source": [
    "class ProductDataset(Dataset):\n",
    "    def __init__(self, texts, labels1, labels2, labels3, labels4):\n",
    "        self.texts = texts\n",
    "        self.labels1 = labels1\n",
    "        self.labels2 = labels2\n",
    "        self.labels3 = labels3\n",
    "        self.labels4 = labels4\n",
    "        self.encodings = tokenizer(texts, truncation=True, padding='max_length', max_length=MAX_LENGTH, return_tensors=\"pt\")\n",
    "\n",
    "    def __len__(self):\n",
    "        return len(self.texts)\n",
    "\n",
    "    def __getitem__(self, idx):\n",
    "        item = {key: val[idx].to(DEVICE) for key, val in self.encodings.items()}\n",
    "        item['labels1'] = torch.tensor(self.labels1[idx], device=DEVICE)\n",
    "        item['labels2'] = torch.tensor(self.labels2[idx], device=DEVICE)\n",
    "        item['labels3'] = torch.tensor(self.labels3[idx], device=DEVICE)\n",
    "        item['labels4'] = torch.tensor(self.labels4[idx], device=DEVICE)\n",
    "        return item\n",
    "        \n",
    "def compute_accuracy(preds, labels):\n",
    "    # Convert each tensor in the list to numpy arrays\n",
    "    preds_np = [p.cpu().numpy() for p in preds]\n",
    "    labels_np = [l.cpu().numpy() for l in labels]\n",
    "    # Individual accuracies for each of the 4 labels\n",
    "    accuracies = [accuracy_score(labels_np[i], preds_np[i]) for i in range(4)]\n",
    "    # Overall accuracy where all 4 labels match\n",
    "    overall_accuracy = accuracy_score(\n",
    "        np.all([labels_np[i] == preds_np[i] for i in range(4)], axis=0), \n",
    "        np.ones(len(labels_np[0]))\n",
    "    )\n",
    "    # Return the 5 accuracies (4 individual, 1 overall)\n",
    "    return accuracies + [overall_accuracy]"
   ]
  },
  {
   "cell_type": "code",
   "execution_count": 10,
   "id": "2d860891",
   "metadata": {
    "execution": {
     "iopub.execute_input": "2024-10-30T20:12:31.981357Z",
     "iopub.status.busy": "2024-10-30T20:12:31.981031Z",
     "iopub.status.idle": "2024-10-30T20:13:43.281355Z",
     "shell.execute_reply": "2024-10-30T20:13:43.280375Z"
    },
    "papermill": {
     "duration": 71.314894,
     "end_time": "2024-10-30T20:13:43.284202",
     "exception": false,
     "start_time": "2024-10-30T20:12:31.969308",
     "status": "completed"
    },
    "tags": []
   },
   "outputs": [],
   "source": [
    "# Split data\n",
    "train_texts, val_texts, train_labels1, val_labels1, train_labels2, val_labels2, train_labels3, val_labels3, train_labels4, val_labels4 = train_test_split(\n",
    "    df['description'], \n",
    "    df['supergroup'], \n",
    "    df['group'], \n",
    "    df['module'], \n",
    "    df['brand'], \n",
    "    test_size=0.2, \n",
    "    random_state=42\n",
    ")\n",
    "\n",
    "train_dataset = ProductDataset(\n",
    "    train_texts.tolist(), \n",
    "    train_labels1.tolist(), \n",
    "    train_labels2.tolist(), \n",
    "    train_labels3.tolist(), \n",
    "    train_labels4.tolist()\n",
    ")\n",
    "\n",
    "val_dataset = ProductDataset(\n",
    "    val_texts.tolist(), \n",
    "    val_labels1.tolist(), \n",
    "    val_labels2.tolist(), \n",
    "    val_labels3.tolist(), \n",
    "    val_labels4.tolist()\n",
    ")\n",
    "\n",
    "train_loader = DataLoader(train_dataset, batch_size=BATCH_SIZE, shuffle=True)\n",
    "val_loader = DataLoader(val_dataset, batch_size=BATCH_SIZE, shuffle=False)"
   ]
  },
  {
   "cell_type": "code",
   "execution_count": 11,
   "id": "b2a7923e",
   "metadata": {
    "execution": {
     "iopub.execute_input": "2024-10-30T20:13:43.312174Z",
     "iopub.status.busy": "2024-10-30T20:13:43.311794Z",
     "iopub.status.idle": "2024-10-30T20:13:43.329380Z",
     "shell.execute_reply": "2024-10-30T20:13:43.328298Z"
    },
    "papermill": {
     "duration": 0.034483,
     "end_time": "2024-10-30T20:13:43.331725",
     "exception": false,
     "start_time": "2024-10-30T20:13:43.297242",
     "status": "completed"
    },
    "tags": []
   },
   "outputs": [],
   "source": [
    "import torch\n",
    "import torch.nn as nn\n",
    "import torch.nn.functional as F\n",
    "from transformers import DebertaModel, DebertaTokenizer\n",
    "from torch.distributions import Categorical\n",
    "import os\n",
    "\n",
    "class AdvancedHierarchicalClassifier(nn.Module):\n",
    "    def __init__(self, num_supergroups, num_groups, num_modules, num_brands, hidden_size=768, projection_dim=128):\n",
    "        super().__init__()\n",
    "        # For loading the new model\n",
    "        self.deberta = DebertaModel.from_pretrained(\"microsoft/deberta-base\")\n",
    "        self.hidden_size = hidden_size\n",
    "        # Classifiers for each hierarchy level\n",
    "        self.supergroup_classifier = nn.Linear(hidden_size, num_supergroups)\n",
    "        self.group_classifier = nn.Linear(hidden_size + num_supergroups, num_groups)\n",
    "        self.module_classifier = nn.Linear(hidden_size + num_supergroups + num_groups, num_modules)\n",
    "        self.brand_classifier = nn.Linear(hidden_size + num_supergroups + num_groups + num_modules, num_brands)\n",
    "        # RL Policy networks for each level\n",
    "        self.supergroup_policy = nn.Linear(hidden_size, num_supergroups)\n",
    "        self.group_policy = nn.Linear(hidden_size + num_supergroups, num_groups)\n",
    "        self.module_policy = nn.Linear(hidden_size + num_supergroups + num_groups, num_modules)\n",
    "        self.brand_policy = nn.Linear(hidden_size + num_supergroups + num_groups + num_modules, num_brands)\n",
    "        # Contrastive learning projection head\n",
    "        self.projection = nn.Sequential(\n",
    "            nn.Linear(hidden_size, hidden_size),\n",
    "            nn.ReLU(),\n",
    "            nn.Linear(hidden_size, projection_dim)\n",
    "        )\n",
    "        # Few-shot learning prototypes\n",
    "        self.prototypes = nn.Parameter(torch.randn(num_supergroups + num_groups + num_modules + num_brands, hidden_size))\n",
    "    def forward(self, input_ids, attention_mask):\n",
    "        outputs = self.deberta(input_ids=input_ids, attention_mask=attention_mask)\n",
    "        hidden_states = outputs.last_hidden_state[:, 0, :]  # Use [CLS] token representation\n",
    "        # Supervised classification logits\n",
    "        supergroup_logits = self.supergroup_classifier(hidden_states)\n",
    "        group_input = torch.cat([hidden_states, torch.softmax(supergroup_logits, dim=1)], dim=1)\n",
    "        group_logits = self.group_classifier(group_input)\n",
    "        module_input = torch.cat([group_input, torch.softmax(group_logits, dim=1)], dim=1)\n",
    "        module_logits = self.module_classifier(module_input)\n",
    "        brand_input = torch.cat([module_input, torch.softmax(module_logits, dim=1)], dim=1)\n",
    "        brand_logits = self.brand_classifier(brand_input)\n",
    "        # RL policy logits\n",
    "        supergroup_policy = self.supergroup_policy(hidden_states)\n",
    "        group_policy = self.group_policy(group_input)\n",
    "        module_policy = self.module_policy(module_input)\n",
    "        brand_policy = self.brand_policy(brand_input)\n",
    "        # Contrastive learning projection\n",
    "        projection = self.projection(hidden_states)\n",
    "        # Few-shot learning\n",
    "        prototype_distances = torch.cdist(hidden_states, self.prototypes)\n",
    "        few_shot_logits = -prototype_distances  # Negative distance as logits\n",
    "        return (supergroup_logits, group_logits, module_logits, brand_logits), \\\n",
    "               (supergroup_policy, group_policy, module_policy, brand_policy), \\\n",
    "               projection, few_shot_logits\n",
    "    def sample_actions(self, policies):\n",
    "        return [Categorical(logits=policy).sample() for policy in policies]"
   ]
  },
  {
   "cell_type": "code",
   "execution_count": 12,
   "id": "a6492c79",
   "metadata": {
    "execution": {
     "iopub.execute_input": "2024-10-30T20:13:43.359762Z",
     "iopub.status.busy": "2024-10-30T20:13:43.359310Z",
     "iopub.status.idle": "2024-10-30T20:13:43.383447Z",
     "shell.execute_reply": "2024-10-30T20:13:43.382460Z"
    },
    "papermill": {
     "duration": 0.040974,
     "end_time": "2024-10-30T20:13:43.385746",
     "exception": false,
     "start_time": "2024-10-30T20:13:43.344772",
     "status": "completed"
    },
    "tags": []
   },
   "outputs": [],
   "source": [
    "import torch\n",
    "import torch.nn as nn\n",
    "import torch.nn.functional as F\n",
    "from torch.distributions import Categorical\n",
    "\n",
    "class JointAccuracyTrainer:\n",
    "    def __init__(self, model, supervised_lr=1e-5, rl_lr=1e-4, contrastive_temperature=0.07, loss_weights=None):\n",
    "        self.model = model\n",
    "        self.device = next(model.parameters()).device\n",
    "        self.supervised_optimizer = torch.optim.NAdam(model.parameters(), lr=supervised_lr)\n",
    "        self.rl_optimizer = torch.optim.NAdam(model.parameters(), lr=rl_lr)\n",
    "        self.criterion = nn.CrossEntropyLoss()\n",
    "        self.contrastive_temperature = contrastive_temperature\n",
    "\n",
    "        # Setting default weights for each loss component\n",
    "        if loss_weights is None:\n",
    "            # Weights for: [supervised, RL, contrastive, few-shot]\n",
    "            self.loss_weights = [1.0, 0.5, 0.2, 0.3]\n",
    "        else:\n",
    "            self.loss_weights = loss_weights\n",
    "\n",
    "    def compute_joint_loss(self, all_outputs, true_labels):\n",
    "        supervised_logits, policy_logits, projection, few_shot_logits = all_outputs\n",
    "\n",
    "        # Supervised Losses\n",
    "        logits_supergroup, logits_group1, logits_group2, logits_group3 = supervised_logits\n",
    "        loss_supergroup = self.criterion(logits_supergroup, true_labels['supergroup'])\n",
    "        loss_group1 = self.criterion(logits_group1, true_labels['group1'])\n",
    "        loss_group2 = self.criterion(logits_group2, true_labels['group2'])\n",
    "        loss_group3 = self.criterion(logits_group3, true_labels['group3'])\n",
    "        supervised_loss = (\n",
    "            self.loss_weights[0] * (loss_supergroup + loss_group1 + loss_group2 + loss_group3)\n",
    "        )\n",
    "\n",
    "        # RL Losses (policy gradient)\n",
    "        policy_supergroup, policy_group1, policy_group2, policy_group3 = policy_logits\n",
    "        rl_loss_supergroup = self.criterion(policy_supergroup, true_labels['supergroup'])\n",
    "        rl_loss_group1 = self.criterion(policy_group1, true_labels['group1'])\n",
    "        rl_loss_group2 = self.criterion(policy_group2, true_labels['group2'])\n",
    "        rl_loss_group3 = self.criterion(policy_group3, true_labels['group3'])\n",
    "        rl_loss = (\n",
    "            self.loss_weights[1] * (rl_loss_supergroup + rl_loss_group1 + rl_loss_group2 + rl_loss_group3)\n",
    "        )\n",
    "\n",
    "        # Contrastive Loss\n",
    "        projection_normalized = F.normalize(projection, p=2, dim=1)\n",
    "        contrastive_similarities = torch.mm(projection_normalized, projection_normalized.t()) / self.contrastive_temperature\n",
    "        labels = torch.arange(projection.size(0)).to(self.device)  # Positive pair labels\n",
    "        contrastive_loss = F.cross_entropy(contrastive_similarities, labels)\n",
    "        contrastive_loss *= self.loss_weights[2]\n",
    "\n",
    "        # Few-shot learning Loss (using prototype distances)\n",
    "        few_shot_loss = self.criterion(few_shot_logits, true_labels['supergroup'])\n",
    "        few_shot_loss *= self.loss_weights[3]\n",
    "\n",
    "        # Total loss\n",
    "        total_loss = supervised_loss + rl_loss + contrastive_loss + few_shot_loss\n",
    "        return total_loss\n",
    "\n",
    "    def supervised_step(self, batch, true_labels):\n",
    "        self.supervised_optimizer.zero_grad()\n",
    "        all_outputs = self.model(batch['input_ids'], batch['attention_mask'])\n",
    "        total_loss = self.compute_joint_loss(all_outputs, true_labels)\n",
    "        total_loss.backward()\n",
    "        torch.nn.utils.clip_grad_norm_(self.model.parameters(), max_norm=5.0)\n",
    "        self.supervised_optimizer.step()\n",
    "        return total_loss.item()\n",
    "\n",
    "    def validation_step(self, batch, true_labels):\n",
    "        with torch.no_grad():\n",
    "            all_outputs = self.model(batch['input_ids'], batch['attention_mask'])\n",
    "            supervised_logits, _, _, _ = all_outputs\n",
    "            logits_supergroup, logits_group1, logits_group2, logits_group3 = supervised_logits\n",
    "            preds_supergroup = torch.argmax(logits_supergroup, dim=-1)\n",
    "            preds_group1 = torch.argmax(logits_group1, dim=-1)\n",
    "            preds_group2 = torch.argmax(logits_group2, dim=-1)\n",
    "            preds_group3 = torch.argmax(logits_group3, dim=-1)\n",
    "            supergroup_acc = (preds_supergroup == true_labels['supergroup']).float().mean().item()\n",
    "            group1_acc = (preds_group1 == true_labels['group1']).float().mean().item()\n",
    "            group2_acc = (preds_group2 == true_labels['group2']).float().mean().item()\n",
    "            group3_acc = (preds_group3 == true_labels['group3']).float().mean().item()\n",
    "            item_acc = ((preds_supergroup == true_labels['supergroup']) &\n",
    "                        (preds_group1 == true_labels['group1']) &\n",
    "                        (preds_group2 == true_labels['group2']) &\n",
    "                        (preds_group3 == true_labels['group3'])).float().mean().item()\n",
    "        return supergroup_acc, group1_acc, group2_acc, group3_acc, item_acc"
   ]
  },
  {
   "cell_type": "code",
   "execution_count": 13,
   "id": "98da3801",
   "metadata": {
    "execution": {
     "iopub.execute_input": "2024-10-30T20:13:43.413407Z",
     "iopub.status.busy": "2024-10-30T20:13:43.413026Z",
     "iopub.status.idle": "2024-10-30T20:13:51.304028Z",
     "shell.execute_reply": "2024-10-30T20:13:51.303089Z"
    },
    "papermill": {
     "duration": 7.907197,
     "end_time": "2024-10-30T20:13:51.306245",
     "exception": false,
     "start_time": "2024-10-30T20:13:43.399048",
     "status": "completed"
    },
    "tags": []
   },
   "outputs": [
    {
     "data": {
      "application/vnd.jupyter.widget-view+json": {
       "model_id": "86c3e97fdcee49109e1f8deae207590e",
       "version_major": 2,
       "version_minor": 0
      },
      "text/plain": [
       "config.json:   0%|          | 0.00/474 [00:00<?, ?B/s]"
      ]
     },
     "metadata": {},
     "output_type": "display_data"
    },
    {
     "data": {
      "application/vnd.jupyter.widget-view+json": {
       "model_id": "1b6fc33854a64e68a129ef6275be453d",
       "version_major": 2,
       "version_minor": 0
      },
      "text/plain": [
       "pytorch_model.bin:   0%|          | 0.00/559M [00:00<?, ?B/s]"
      ]
     },
     "metadata": {},
     "output_type": "display_data"
    },
    {
     "name": "stderr",
     "output_type": "stream",
     "text": [
      "/tmp/ipykernel_23/2259319365.py:4: FutureWarning: You are using `torch.load` with `weights_only=False` (the current default value), which uses the default pickle module implicitly. It is possible to construct malicious pickle data which will execute arbitrary code during unpickling (See https://github.com/pytorch/pytorch/blob/main/SECURITY.md#untrusted-models for more details). In a future release, the default value for `weights_only` will be flipped to `True`. This limits the functions that could be executed during unpickling. Arbitrary objects will no longer be allowed to be loaded via this mode unless they are explicitly allowlisted by the user via `torch.serialization.add_safe_globals`. We recommend you start setting `weights_only=True` for any use case where you don't have full control of the loaded file. Please open an issue on GitHub for any issues related to this experimental feature.\n",
      "  model.load_state_dict(torch.load(model_path))\n"
     ]
    },
    {
     "data": {
      "text/plain": [
       "<All keys matched successfully>"
      ]
     },
     "execution_count": 13,
     "metadata": {},
     "output_type": "execute_result"
    }
   ],
   "source": [
    "# Usage\n",
    "model = AdvancedHierarchicalClassifier(num_supergroups=32, num_groups=228, num_modules=449, num_brands=5679).to(DEVICE)\n",
    "model_path = os.path.join(model_dir, \"model.pth\")\n",
    "model.load_state_dict(torch.load(model_path))"
   ]
  },
  {
   "cell_type": "code",
   "execution_count": 14,
   "id": "631259c0",
   "metadata": {
    "execution": {
     "iopub.execute_input": "2024-10-30T20:13:51.331643Z",
     "iopub.status.busy": "2024-10-30T20:13:51.331238Z",
     "iopub.status.idle": "2024-10-30T20:13:58.739993Z",
     "shell.execute_reply": "2024-10-30T20:13:58.739008Z"
    },
    "papermill": {
     "duration": 7.423814,
     "end_time": "2024-10-30T20:13:58.742457",
     "exception": false,
     "start_time": "2024-10-30T20:13:51.318643",
     "status": "completed"
    },
    "tags": []
   },
   "outputs": [
    {
     "name": "stdout",
     "output_type": "stream",
     "text": [
      "-------------------------------------------------------  ------------  ------------  ------------  ------------  ------------  ------------  ------------  ------------  ------------  ------------  ------------  \n",
      "                                                   Name    Self CPU %      Self CPU   CPU total %     CPU total  CPU time avg     Self CUDA   Self CUDA %    CUDA total  CUDA time avg    # of Calls  Total MFLOPs  \n",
      "-------------------------------------------------------  ------------  ------------  ------------  ------------  ------------  ------------  ------------  ------------  ------------  ------------  ------------  \n",
      "                                               aten::mm         2.86%      26.277ms         8.04%      73.917ms     381.014us      48.871ms        17.64%      48.871ms     251.913us           194    301934.597  \n",
      "                                            aten::addmm         1.60%      14.737ms         3.19%      29.361ms     506.229us      17.771ms         6.41%      17.771ms     306.393us            58    100590.989  \n",
      "                                              aten::bmm         0.84%       7.769ms         2.19%      20.160ms     140.001us      11.827ms         4.27%      11.827ms      82.135us           144      3057.648  \n",
      "                                              aten::mul         1.42%      13.061ms         3.30%      30.341ms      55.773us       2.622ms         0.95%       2.622ms       4.820us           544       132.352  \n",
      "                                              aten::add         0.67%       6.199ms         0.93%       8.569ms      44.629us       1.653ms         0.60%       1.653ms       8.609us           192        60.111  \n",
      "                    Optimizer.zero_grad#NAdam.zero_grad         0.02%     215.492us         0.02%     215.492us     215.492us       0.000us         0.00%       0.000us       0.000us             1            --  \n",
      "                                            aten::zeros         0.30%       2.741ms         2.58%      23.709ms     439.054us       0.000us         0.00%     402.015us       7.445us            54            --  \n",
      "                                            aten::empty         0.70%       6.462ms         0.77%       7.089ms       6.882us       0.000us         0.00%       0.000us       0.000us          1030            --  \n",
      "                                            aten::zero_         0.24%       2.195ms         3.11%      28.628ms      53.511us       0.000us         0.00%       3.426ms       6.404us           535            --  \n",
      "                                            aten::fill_         0.58%       5.369ms         2.88%      26.526ms      49.213us       3.434ms         1.24%       3.434ms       6.371us           539            --  \n",
      "-------------------------------------------------------  ------------  ------------  ------------  ------------  ------------  ------------  ------------  ------------  ------------  ------------  ------------  \n",
      "Self CPU time total: 919.646ms\n",
      "Self CUDA time total: 277.029ms\n",
      "\n",
      "GFLOPs during training\n",
      "405.77569613\n"
     ]
    }
   ],
   "source": [
    "# Profile on a single sample before starting the full training\n",
    "model.train()\n",
    "sample_batch = next(iter(train_loader))  # Get one sample batch\n",
    "sample_batch = {k: v.to(device) for k, v in sample_batch.items()}\n",
    "true_labels = {\n",
    "    'supergroup': sample_batch['labels1'],\n",
    "    'group1': sample_batch['labels2'],\n",
    "    'group2': sample_batch['labels3'],\n",
    "    'group3': sample_batch['labels4']\n",
    "}\n",
    "trainer = JointAccuracyTrainer(model)\n",
    "\n",
    "with profile(activities=[ProfilerActivity.CPU, ProfilerActivity.CUDA], with_flops=True) as prof:\n",
    "    _ = trainer.supervised_step(sample_batch, true_labels)\n",
    "\n",
    "print(prof.key_averages().table(sort_by=\"flops\",row_limit=10))\n",
    "print(\"GFLOPs during training\") #GigaFLOPs\n",
    "print(sum(k.flops for k in prof.key_averages())/1e9)"
   ]
  },
  {
   "cell_type": "code",
   "execution_count": 15,
   "id": "1bf9f2c5",
   "metadata": {
    "execution": {
     "iopub.execute_input": "2024-10-30T20:13:58.768690Z",
     "iopub.status.busy": "2024-10-30T20:13:58.767551Z",
     "iopub.status.idle": "2024-10-31T00:11:18.995898Z",
     "shell.execute_reply": "2024-10-31T00:11:18.994826Z"
    },
    "papermill": {
     "duration": 14240.256693,
     "end_time": "2024-10-31T00:11:19.011119",
     "exception": false,
     "start_time": "2024-10-30T20:13:58.754426",
     "status": "completed"
    },
    "tags": []
   },
   "outputs": [
    {
     "name": "stdout",
     "output_type": "stream",
     "text": [
      "New best model saved with item accuracy: 0.7857\n",
      "Epoch 1/12 - Train Loss: 1.9302, Val Accuracies - Supergroup: 0.8876, Group1: 0.8591, Group2: 0.8475, Group3: 0.8718, Item Accuracy: 0.7857\n",
      "New best model saved with item accuracy: 0.7882\n",
      "Epoch 2/12 - Train Loss: 0.3809, Val Accuracies - Supergroup: 0.8885, Group1: 0.8608, Group2: 0.8491, Group3: 0.8744, Item Accuracy: 0.7882\n",
      "New best model saved with item accuracy: 0.7903\n",
      "Epoch 3/12 - Train Loss: 0.2017, Val Accuracies - Supergroup: 0.8893, Group1: 0.8618, Group2: 0.8503, Group3: 0.8757, Item Accuracy: 0.7903\n",
      "New best model saved with item accuracy: 0.7912\n",
      "Epoch 4/12 - Train Loss: 0.1235, Val Accuracies - Supergroup: 0.8900, Group1: 0.8622, Group2: 0.8509, Group3: 0.8762, Item Accuracy: 0.7912\n",
      "New best model saved with item accuracy: 0.7913\n",
      "Epoch 5/12 - Train Loss: 0.0830, Val Accuracies - Supergroup: 0.8897, Group1: 0.8627, Group2: 0.8510, Group3: 0.8770, Item Accuracy: 0.7913\n",
      "Epoch 6/12 - Train Loss: 0.0593, Val Accuracies - Supergroup: 0.8895, Group1: 0.8625, Group2: 0.8509, Group3: 0.8767, Item Accuracy: 0.7912\n",
      "New best model saved with item accuracy: 0.7915\n",
      "Epoch 7/12 - Train Loss: 0.0446, Val Accuracies - Supergroup: 0.8889, Group1: 0.8623, Group2: 0.8508, Group3: 0.8773, Item Accuracy: 0.7915\n",
      "Epoch 8/12 - Train Loss: 0.0364, Val Accuracies - Supergroup: 0.8883, Group1: 0.8616, Group2: 0.8498, Group3: 0.8770, Item Accuracy: 0.7906\n",
      "New best model saved with item accuracy: 0.7919\n",
      "Epoch 9/12 - Train Loss: 0.0295, Val Accuracies - Supergroup: 0.8887, Group1: 0.8626, Group2: 0.8510, Group3: 0.8776, Item Accuracy: 0.7919\n",
      "Epoch 10/12 - Train Loss: 0.0260, Val Accuracies - Supergroup: 0.8883, Group1: 0.8610, Group2: 0.8497, Group3: 0.8768, Item Accuracy: 0.7902\n",
      "Epoch 11/12 - Train Loss: 0.0247, Val Accuracies - Supergroup: 0.8879, Group1: 0.8610, Group2: 0.8494, Group3: 0.8771, Item Accuracy: 0.7900\n",
      "Epoch 12/12 - Train Loss: 0.0219, Val Accuracies - Supergroup: 0.8881, Group1: 0.8611, Group2: 0.8497, Group3: 0.8784, Item Accuracy: 0.7912\n"
     ]
    }
   ],
   "source": [
    "def train_and_evaluate(model, train_loader, val_loader, model_dir, num_epochs=10):\n",
    "    trainer = JointAccuracyTrainer(model)\n",
    "    best_item_accuracy = 0.0  # Track best item accuracy\n",
    "\n",
    "    for epoch in range(num_epochs):\n",
    "        model.train()\n",
    "        total_sup_loss = 0.0\n",
    "        for batch in train_loader:\n",
    "            batch = {k: v.to(device) for k, v in batch.items()}\n",
    "            true_labels = {\n",
    "                'supergroup': batch['labels1'],\n",
    "                'group1': batch['labels2'],\n",
    "                'group2': batch['labels3'],\n",
    "                'group3': batch['labels4']\n",
    "            }\n",
    "            sup_loss = trainer.supervised_step(batch, true_labels)\n",
    "            total_sup_loss += sup_loss\n",
    "\n",
    "        model.eval()\n",
    "        val_accuracies = [0, 0, 0, 0, 0]\n",
    "        for batch in val_loader:\n",
    "            batch = {k: v.to(device) for k, v in batch.items()}\n",
    "            true_labels = {\n",
    "                'supergroup': batch['labels1'],\n",
    "                'group1': batch['labels2'],\n",
    "                'group2': batch['labels3'],\n",
    "                'group3': batch['labels4']\n",
    "            }\n",
    "            accs = trainer.validation_step(batch, true_labels)\n",
    "            val_accuracies = [sum(x) for x in zip(val_accuracies, accs)]\n",
    "\n",
    "        val_accuracies = [x / len(val_loader) for x in val_accuracies]\n",
    "        item_accuracy = val_accuracies[4]  # Current epoch's item accuracy\n",
    "\n",
    "        # Check for best item accuracy and save model if improved\n",
    "        if item_accuracy > best_item_accuracy:\n",
    "            best_item_accuracy = item_accuracy\n",
    "            model_save_path = os.path.join(\"best_model.pth\")\n",
    "            torch.save(model.state_dict(), model_save_path)\n",
    "            print(f\"New best model saved with item accuracy: {best_item_accuracy:.4f}\")\n",
    "            \n",
    "        print(f\"Epoch {epoch + 1}/{num_epochs} - \"\n",
    "              f\"Train Loss: {total_sup_loss / len(train_loader):.4f}, \"\n",
    "              f\"Val Accuracies - Supergroup: {val_accuracies[0]:.4f}, Group1: {val_accuracies[1]:.4f}, \"\n",
    "              f\"Group2: {val_accuracies[2]:.4f}, Group3: {val_accuracies[3]:.4f}, Item Accuracy: {val_accuracies[4]:.4f}\")\n",
    "\n",
    "train_and_evaluate(model, train_loader, val_loader, model_dir, num_epochs=NUM_EPOCHS)"
   ]
  },
  {
   "cell_type": "code",
   "execution_count": 16,
   "id": "e8c47afd",
   "metadata": {
    "execution": {
     "iopub.execute_input": "2024-10-31T00:11:19.038472Z",
     "iopub.status.busy": "2024-10-31T00:11:19.038085Z",
     "iopub.status.idle": "2024-10-31T00:11:20.190031Z",
     "shell.execute_reply": "2024-10-31T00:11:20.189036Z"
    },
    "papermill": {
     "duration": 1.168312,
     "end_time": "2024-10-31T00:11:20.192293",
     "exception": false,
     "start_time": "2024-10-31T00:11:19.023981",
     "status": "completed"
    },
    "tags": []
   },
   "outputs": [
    {
     "name": "stdout",
     "output_type": "stream",
     "text": [
      "Model saved to New_model/model.pth\n",
      "Tokenizer saved to New_model\n"
     ]
    }
   ],
   "source": [
    "import os\n",
    "# Define the directory to save the model and tokenizer\n",
    "save_directory = \"New_model\"\n",
    "# Create the directory if it doesn't exist\n",
    "\n",
    "if not os.path.exists(save_directory):\n",
    "    os.makedirs(save_directory)\n",
    "# Save the model's state dictionary\n",
    "\n",
    "model_save_path = os.path.join(save_directory, \"model.pth\")\n",
    "torch.save(model.state_dict(), model_save_path)\n",
    "print(f\"Model saved to {model_save_path}\")\n",
    "# Save the tokenizer\n",
    "\n",
    "tokenizer.save_pretrained(save_directory)\n",
    "print(f\"Tokenizer saved to {save_directory}\")"
   ]
  },
  {
   "cell_type": "code",
   "execution_count": 17,
   "id": "a57a678a",
   "metadata": {
    "execution": {
     "iopub.execute_input": "2024-10-31T00:11:20.220197Z",
     "iopub.status.busy": "2024-10-31T00:11:20.219750Z",
     "iopub.status.idle": "2024-10-31T00:11:20.686070Z",
     "shell.execute_reply": "2024-10-31T00:11:20.685065Z"
    },
    "papermill": {
     "duration": 0.482957,
     "end_time": "2024-10-31T00:11:20.688430",
     "exception": false,
     "start_time": "2024-10-31T00:11:20.205473",
     "status": "completed"
    },
    "tags": []
   },
   "outputs": [
    {
     "name": "stderr",
     "output_type": "stream",
     "text": [
      "/tmp/ipykernel_23/580111615.py:2: FutureWarning: You are using `torch.load` with `weights_only=False` (the current default value), which uses the default pickle module implicitly. It is possible to construct malicious pickle data which will execute arbitrary code during unpickling (See https://github.com/pytorch/pytorch/blob/main/SECURITY.md#untrusted-models for more details). In a future release, the default value for `weights_only` will be flipped to `True`. This limits the functions that could be executed during unpickling. Arbitrary objects will no longer be allowed to be loaded via this mode unless they are explicitly allowlisted by the user via `torch.serialization.add_safe_globals`. We recommend you start setting `weights_only=True` for any use case where you don't have full control of the loaded file. Please open an issue on GitHub for any issues related to this experimental feature.\n",
      "  model.load_state_dict(torch.load(os.path.join(\"best_model.pth\")))\n"
     ]
    }
   ],
   "source": [
    "try:\n",
    "    model.load_state_dict(torch.load(os.path.join(\"best_model.pth\")))\n",
    "except:\n",
    "    print(\"Nothing to worry about\")"
   ]
  },
  {
   "cell_type": "code",
   "execution_count": 18,
   "id": "7a370f18",
   "metadata": {
    "execution": {
     "iopub.execute_input": "2024-10-31T00:11:20.717088Z",
     "iopub.status.busy": "2024-10-31T00:11:20.716261Z",
     "iopub.status.idle": "2024-10-31T00:11:21.547965Z",
     "shell.execute_reply": "2024-10-31T00:11:21.547146Z"
    },
    "papermill": {
     "duration": 0.848551,
     "end_time": "2024-10-31T00:11:21.550353",
     "exception": false,
     "start_time": "2024-10-31T00:11:20.701802",
     "status": "completed"
    },
    "tags": []
   },
   "outputs": [],
   "source": [
    "df_test_feat = pd.read_json('/kaggle/input/indoml-phase2/final_test_data.features',lines=True)"
   ]
  },
  {
   "cell_type": "code",
   "execution_count": 19,
   "id": "af5fd418",
   "metadata": {
    "execution": {
     "iopub.execute_input": "2024-10-31T00:11:21.578799Z",
     "iopub.status.busy": "2024-10-31T00:11:21.578414Z",
     "iopub.status.idle": "2024-10-31T00:11:21.594159Z",
     "shell.execute_reply": "2024-10-31T00:11:21.593138Z"
    },
    "papermill": {
     "duration": 0.032373,
     "end_time": "2024-10-31T00:11:21.596278",
     "exception": false,
     "start_time": "2024-10-31T00:11:21.563905",
     "status": "completed"
    },
    "tags": []
   },
   "outputs": [
    {
     "data": {
      "text/html": [
       "<div>\n",
       "<style scoped>\n",
       "    .dataframe tbody tr th:only-of-type {\n",
       "        vertical-align: middle;\n",
       "    }\n",
       "\n",
       "    .dataframe tbody tr th {\n",
       "        vertical-align: top;\n",
       "    }\n",
       "\n",
       "    .dataframe thead th {\n",
       "        text-align: right;\n",
       "    }\n",
       "</style>\n",
       "<table border=\"1\" class=\"dataframe\">\n",
       "  <thead>\n",
       "    <tr style=\"text-align: right;\">\n",
       "      <th></th>\n",
       "      <th>indoml_id</th>\n",
       "      <th>description</th>\n",
       "      <th>retailer</th>\n",
       "      <th>price</th>\n",
       "    </tr>\n",
       "  </thead>\n",
       "  <tbody>\n",
       "    <tr>\n",
       "      <th>0</th>\n",
       "      <td>0</td>\n",
       "      <td>14 in hybrid blade</td>\n",
       "      <td>wilko</td>\n",
       "      <td>4.50</td>\n",
       "    </tr>\n",
       "    <tr>\n",
       "      <th>1</th>\n",
       "      <td>1</td>\n",
       "      <td>2 pk vent stick a fres</td>\n",
       "      <td>noshify</td>\n",
       "      <td>0.69</td>\n",
       "    </tr>\n",
       "    <tr>\n",
       "      <th>2</th>\n",
       "      <td>2</td>\n",
       "      <td>4 tyrefix 450 ml</td>\n",
       "      <td>noshify</td>\n",
       "      <td>2.99</td>\n",
       "    </tr>\n",
       "    <tr>\n",
       "      <th>3</th>\n",
       "      <td>3</td>\n",
       "      <td>4 x 4 tyrefix 450 ml</td>\n",
       "      <td>noshify</td>\n",
       "      <td>2.99</td>\n",
       "    </tr>\n",
       "    <tr>\n",
       "      <th>4</th>\n",
       "      <td>4</td>\n",
       "      <td>5 l adbluescr diesel vehicles</td>\n",
       "      <td>noshify</td>\n",
       "      <td>4.99</td>\n",
       "    </tr>\n",
       "  </tbody>\n",
       "</table>\n",
       "</div>"
      ],
      "text/plain": [
       "   indoml_id                    description retailer  price\n",
       "0          0             14 in hybrid blade    wilko   4.50\n",
       "1          1         2 pk vent stick a fres  noshify   0.69\n",
       "2          2               4 tyrefix 450 ml  noshify   2.99\n",
       "3          3           4 x 4 tyrefix 450 ml  noshify   2.99\n",
       "4          4  5 l adbluescr diesel vehicles  noshify   4.99"
      ]
     },
     "execution_count": 19,
     "metadata": {},
     "output_type": "execute_result"
    }
   ],
   "source": [
    "df_test_feat.head()"
   ]
  },
  {
   "cell_type": "code",
   "execution_count": 20,
   "id": "5af9f237",
   "metadata": {
    "execution": {
     "iopub.execute_input": "2024-10-31T00:11:21.625673Z",
     "iopub.status.busy": "2024-10-31T00:11:21.625268Z",
     "iopub.status.idle": "2024-10-31T00:11:22.590053Z",
     "shell.execute_reply": "2024-10-31T00:11:22.588998Z"
    },
    "papermill": {
     "duration": 0.981804,
     "end_time": "2024-10-31T00:11:22.592366",
     "exception": false,
     "start_time": "2024-10-31T00:11:21.610562",
     "status": "completed"
    },
    "tags": []
   },
   "outputs": [
    {
     "name": "stdout",
     "output_type": "stream",
     "text": [
      "Inference time :0.768291711807251\n",
      "GFLOPs during testing\n",
      "2.782020956\n",
      "Supergroup: 23, Group: 180, Module: 326, Brand: 5543\n"
     ]
    }
   ],
   "source": [
    "def predict(model, tokenizer, text):\n",
    "    start = time.time()\n",
    "    with profile(activities=[ProfilerActivity.CPU, ProfilerActivity.CUDA],with_flops=True) as prof:\n",
    "        inputs = tokenizer(\n",
    "            text, \n",
    "            return_tensors=\"pt\", \n",
    "            truncation=True, \n",
    "            padding='max_length', \n",
    "            max_length=MAX_LENGTH\n",
    "        ).to(DEVICE)\n",
    "        with torch.no_grad():\n",
    "            logits, _, _, _ = model(inputs['input_ids'], inputs['attention_mask'])\n",
    "        predictions = [torch.argmax(logit, dim=1).item() for logit in logits]\n",
    "        \n",
    "    print(\"Inference time :\"+str(time.time()-start))\n",
    "    #print(prof.key_averages().table(sort_by=\"flops\",row_limit=10))\n",
    "    print(\"GFLOPs during testing\") #GigaFLOPs\n",
    "    print(sum(k.flops for k in prof.key_averages())/1e9)\n",
    "    return predictions\n",
    "\n",
    "# Example prediction\n",
    "sample_text = \"14 in hybrid blade\"\n",
    "predictions = predict(model, tokenizer, sample_text)\n",
    "print(f\"Supergroup: {predictions[0]}, Group: {predictions[1]}, Module: {predictions[2]}, Brand: {predictions[3]}\")"
   ]
  },
  {
   "cell_type": "code",
   "execution_count": 21,
   "id": "40a1f6ba",
   "metadata": {
    "execution": {
     "iopub.execute_input": "2024-10-31T00:11:22.622029Z",
     "iopub.status.busy": "2024-10-31T00:11:22.621064Z",
     "iopub.status.idle": "2024-10-31T00:11:22.625556Z",
     "shell.execute_reply": "2024-10-31T00:11:22.624628Z"
    },
    "papermill": {
     "duration": 0.021624,
     "end_time": "2024-10-31T00:11:22.627613",
     "exception": false,
     "start_time": "2024-10-31T00:11:22.605989",
     "status": "completed"
    },
    "tags": []
   },
   "outputs": [],
   "source": [
    "# df_test_feat = df_test_feat[:5]"
   ]
  },
  {
   "cell_type": "code",
   "execution_count": 22,
   "id": "08832e5b",
   "metadata": {
    "execution": {
     "iopub.execute_input": "2024-10-31T00:11:22.657138Z",
     "iopub.status.busy": "2024-10-31T00:11:22.656226Z",
     "iopub.status.idle": "2024-10-31T01:33:41.162089Z",
     "shell.execute_reply": "2024-10-31T01:33:41.160774Z"
    },
    "papermill": {
     "duration": 4938.523105,
     "end_time": "2024-10-31T01:33:41.164484",
     "exception": false,
     "start_time": "2024-10-31T00:11:22.641379",
     "status": "completed"
    },
    "tags": []
   },
   "outputs": [
    {
     "name": "stdout",
     "output_type": "stream",
     "text": [
      "Processing 0 of 184663\n",
      "Processing 1000 of 184663\n",
      "Processing 2000 of 184663\n",
      "Processing 3000 of 184663\n",
      "Processing 4000 of 184663\n",
      "Processing 5000 of 184663\n",
      "Processing 6000 of 184663\n",
      "Processing 7000 of 184663\n",
      "Processing 8000 of 184663\n",
      "Processing 9000 of 184663\n",
      "Processing 10000 of 184663\n",
      "Processing 11000 of 184663\n",
      "Processing 12000 of 184663\n",
      "Processing 13000 of 184663\n",
      "Processing 14000 of 184663\n",
      "Processing 15000 of 184663\n",
      "Processing 16000 of 184663\n",
      "Processing 17000 of 184663\n",
      "Processing 18000 of 184663\n",
      "Processing 19000 of 184663\n",
      "Processing 20000 of 184663\n",
      "Processing 21000 of 184663\n",
      "Processing 22000 of 184663\n",
      "Processing 23000 of 184663\n",
      "Processing 24000 of 184663\n",
      "Processing 25000 of 184663\n",
      "Processing 26000 of 184663\n",
      "Processing 27000 of 184663\n",
      "Processing 28000 of 184663\n",
      "Processing 29000 of 184663\n",
      "Processing 30000 of 184663\n",
      "Processing 31000 of 184663\n",
      "Processing 32000 of 184663\n",
      "Processing 33000 of 184663\n",
      "Processing 34000 of 184663\n",
      "Processing 35000 of 184663\n",
      "Processing 36000 of 184663\n",
      "Processing 37000 of 184663\n",
      "Processing 38000 of 184663\n",
      "Processing 39000 of 184663\n",
      "Processing 40000 of 184663\n",
      "Processing 41000 of 184663\n",
      "Processing 42000 of 184663\n",
      "Processing 43000 of 184663\n",
      "Processing 44000 of 184663\n",
      "Processing 45000 of 184663\n",
      "Processing 46000 of 184663\n",
      "Processing 47000 of 184663\n",
      "Processing 48000 of 184663\n",
      "Processing 49000 of 184663\n",
      "Processing 50000 of 184663\n",
      "Processing 51000 of 184663\n",
      "Processing 52000 of 184663\n",
      "Processing 53000 of 184663\n",
      "Processing 54000 of 184663\n",
      "Processing 55000 of 184663\n",
      "Processing 56000 of 184663\n",
      "Processing 57000 of 184663\n",
      "Processing 58000 of 184663\n",
      "Processing 59000 of 184663\n",
      "Processing 60000 of 184663\n",
      "Processing 61000 of 184663\n",
      "Processing 62000 of 184663\n",
      "Processing 63000 of 184663\n",
      "Processing 64000 of 184663\n",
      "Processing 65000 of 184663\n",
      "Processing 66000 of 184663\n",
      "Processing 67000 of 184663\n",
      "Processing 68000 of 184663\n",
      "Processing 69000 of 184663\n",
      "Processing 70000 of 184663\n",
      "Processing 71000 of 184663\n",
      "Processing 72000 of 184663\n",
      "Processing 73000 of 184663\n",
      "Processing 74000 of 184663\n",
      "Processing 75000 of 184663\n",
      "Processing 76000 of 184663\n",
      "Processing 77000 of 184663\n",
      "Processing 78000 of 184663\n",
      "Processing 79000 of 184663\n",
      "Processing 80000 of 184663\n",
      "Processing 81000 of 184663\n",
      "Processing 82000 of 184663\n",
      "Processing 83000 of 184663\n",
      "Processing 84000 of 184663\n",
      "Processing 85000 of 184663\n",
      "Processing 86000 of 184663\n",
      "Processing 87000 of 184663\n",
      "Processing 88000 of 184663\n",
      "Processing 89000 of 184663\n",
      "Processing 90000 of 184663\n",
      "Processing 91000 of 184663\n",
      "Processing 92000 of 184663\n",
      "Processing 93000 of 184663\n",
      "Processing 94000 of 184663\n",
      "Processing 95000 of 184663\n",
      "Processing 96000 of 184663\n",
      "Processing 97000 of 184663\n",
      "Processing 98000 of 184663\n",
      "Processing 99000 of 184663\n",
      "Processing 100000 of 184663\n",
      "Processing 101000 of 184663\n",
      "Processing 102000 of 184663\n",
      "Processing 103000 of 184663\n",
      "Processing 104000 of 184663\n",
      "Processing 105000 of 184663\n",
      "Processing 106000 of 184663\n",
      "Processing 107000 of 184663\n",
      "Processing 108000 of 184663\n",
      "Processing 109000 of 184663\n",
      "Processing 110000 of 184663\n",
      "Processing 111000 of 184663\n",
      "Processing 112000 of 184663\n",
      "Processing 113000 of 184663\n",
      "Processing 114000 of 184663\n",
      "Processing 115000 of 184663\n",
      "Processing 116000 of 184663\n",
      "Processing 117000 of 184663\n",
      "Processing 118000 of 184663\n",
      "Processing 119000 of 184663\n",
      "Processing 120000 of 184663\n",
      "Processing 121000 of 184663\n",
      "Processing 122000 of 184663\n",
      "Processing 123000 of 184663\n",
      "Processing 124000 of 184663\n",
      "Processing 125000 of 184663\n",
      "Processing 126000 of 184663\n",
      "Processing 127000 of 184663\n",
      "Processing 128000 of 184663\n",
      "Processing 129000 of 184663\n",
      "Processing 130000 of 184663\n",
      "Processing 131000 of 184663\n",
      "Processing 132000 of 184663\n",
      "Processing 133000 of 184663\n",
      "Processing 134000 of 184663\n",
      "Processing 135000 of 184663\n",
      "Processing 136000 of 184663\n",
      "Processing 137000 of 184663\n",
      "Processing 138000 of 184663\n",
      "Processing 139000 of 184663\n",
      "Processing 140000 of 184663\n",
      "Processing 141000 of 184663\n",
      "Processing 142000 of 184663\n",
      "Processing 143000 of 184663\n",
      "Processing 144000 of 184663\n",
      "Processing 145000 of 184663\n",
      "Processing 146000 of 184663\n",
      "Processing 147000 of 184663\n",
      "Processing 148000 of 184663\n",
      "Processing 149000 of 184663\n",
      "Processing 150000 of 184663\n",
      "Processing 151000 of 184663\n",
      "Processing 152000 of 184663\n",
      "Processing 153000 of 184663\n",
      "Processing 154000 of 184663\n",
      "Processing 155000 of 184663\n",
      "Processing 156000 of 184663\n",
      "Processing 157000 of 184663\n",
      "Processing 158000 of 184663\n",
      "Processing 159000 of 184663\n",
      "Processing 160000 of 184663\n",
      "Processing 161000 of 184663\n",
      "Processing 162000 of 184663\n",
      "Processing 163000 of 184663\n",
      "Processing 164000 of 184663\n",
      "Processing 165000 of 184663\n",
      "Processing 166000 of 184663\n",
      "Processing 167000 of 184663\n",
      "Processing 168000 of 184663\n",
      "Processing 169000 of 184663\n",
      "Processing 170000 of 184663\n",
      "Processing 171000 of 184663\n",
      "Processing 172000 of 184663\n",
      "Processing 173000 of 184663\n",
      "Processing 174000 of 184663\n",
      "Processing 175000 of 184663\n",
      "Processing 176000 of 184663\n",
      "Processing 177000 of 184663\n",
      "Processing 178000 of 184663\n",
      "Processing 179000 of 184663\n",
      "Processing 180000 of 184663\n",
      "Processing 181000 of 184663\n",
      "Processing 182000 of 184663\n",
      "Processing 183000 of 184663\n",
      "Processing 184000 of 184663\n",
      "predictions.predict saved\n",
      "None\n"
     ]
    }
   ],
   "source": [
    "def make_test_pred_and_save(df_test_feat):\n",
    "    supergroups_list = []\n",
    "    groups_list = []\n",
    "    modules_list = []\n",
    "    brands_list = []\n",
    "    indoml_id_list = range(0, len(df_test_feat))\n",
    "    length_df = df_test_feat.shape[0]\n",
    "    with torch.no_grad():\n",
    "        for i in range(length_df):\n",
    "            if i % 1000 == 0:\n",
    "                print(f\"Processing {i} of {length_df - 1}\")\n",
    "            inputs = tokenizer(\n",
    "                df_test_feat.iloc[i].description, \n",
    "                return_tensors=\"pt\", \n",
    "                truncation=True, \n",
    "                padding='max_length', \n",
    "                max_length=MAX_LENGTH\n",
    "            ).to(DEVICE)\n",
    "            logits, _, _, _ = model(inputs['input_ids'], inputs['attention_mask'])\n",
    "            predictions = [torch.argmax(logit, dim=1).item() for logit in logits]\n",
    "            # Append predictions to respective lists\n",
    "            supergroups_list.append(predictions[0])\n",
    "            groups_list.append(predictions[1])\n",
    "            modules_list.append(predictions[2])\n",
    "            brands_list.append(predictions[3])\n",
    "                \n",
    "        try:\n",
    "            supergroups_names = supergroup_encoder.inverse_transform(supergroups_list)\n",
    "        except ValueError as e:\n",
    "            print(f\"Error in supergroups: {e}\")\n",
    "            supergroups_names = ['Unknown' if x not in supergroup_encoder.classes_ else x for x in supergroups_list]\n",
    "        try:\n",
    "            groups_names = group_encoder.inverse_transform(groups_list)\n",
    "        except ValueError as e:\n",
    "            print(f\"Error in groups: {e}\")\n",
    "            groups_names = ['Unknown' if x not in group_encoder.classes_ else x for x in groups_list]\n",
    "        try:\n",
    "            modules_names = module_encoder.inverse_transform(modules_list)\n",
    "        except ValueError as e:\n",
    "            print(f\"Error in modules: {e}\")\n",
    "            modules_names = ['Unknown' if x not in module_encoder.classes_ else x for x in modules_list]\n",
    "        try:\n",
    "            brands_names = brand_encoder.inverse_transform(brands_list)\n",
    "        except ValueError as e:\n",
    "            print(f\"Error in brands: {e}\")\n",
    "            brands_names = ['Unknown' if x not in brand_encoder.classes_ else x for x in brands_list]\n",
    "        # Create a DataFrame with predictions\n",
    "        predictions_df = pd.DataFrame({\n",
    "            'indoml_id': indoml_id_list,\n",
    "            'supergroup': supergroups_names,\n",
    "            'group': groups_names,\n",
    "            'module': modules_names,\n",
    "            'brand': brands_names\n",
    "        })\n",
    "        predictions_df.to_json('/kaggle/working/predictions.predict', orient='records', lines=True)\n",
    "        print(\"predictions.predict saved\")\n",
    "print(make_test_pred_and_save(df_test_feat))"
   ]
  },
  {
   "cell_type": "code",
   "execution_count": null,
   "id": "a532b671",
   "metadata": {
    "papermill": {
     "duration": 0.026875,
     "end_time": "2024-10-31T01:33:41.219087",
     "exception": false,
     "start_time": "2024-10-31T01:33:41.192212",
     "status": "completed"
    },
    "tags": []
   },
   "outputs": [],
   "source": []
  }
 ],
 "metadata": {
  "kaggle": {
   "accelerator": "gpu",
   "dataSources": [
    {
     "datasetId": 5779523,
     "sourceId": 9642895,
     "sourceType": "datasetVersion"
    },
    {
     "datasetId": 5918644,
     "sourceId": 9743111,
     "sourceType": "datasetVersion"
    }
   ],
   "dockerImageVersionId": 30787,
   "isGpuEnabled": true,
   "isInternetEnabled": true,
   "language": "python",
   "sourceType": "notebook"
  },
  "kernelspec": {
   "display_name": "Python 3",
   "language": "python",
   "name": "python3"
  },
  "language_info": {
   "codemirror_mode": {
    "name": "ipython",
    "version": 3
   },
   "file_extension": ".py",
   "mimetype": "text/x-python",
   "name": "python",
   "nbconvert_exporter": "python",
   "pygments_lexer": "ipython3",
   "version": "3.10.14"
  },
  "papermill": {
   "default_parameters": {},
   "duration": 19289.502054,
   "end_time": "2024-10-31T01:33:44.311375",
   "environment_variables": {},
   "exception": null,
   "input_path": "__notebook__.ipynb",
   "output_path": "__notebook__.ipynb",
   "parameters": {},
   "start_time": "2024-10-30T20:12:14.809321",
   "version": "2.6.0"
  },
  "widgets": {
   "application/vnd.jupyter.widget-state+json": {
    "state": {
     "13ce940d992a42c58675d6b640b9a27f": {
      "model_module": "@jupyter-widgets/controls",
      "model_module_version": "1.5.0",
      "model_name": "DescriptionStyleModel",
      "state": {
       "_model_module": "@jupyter-widgets/controls",
       "_model_module_version": "1.5.0",
       "_model_name": "DescriptionStyleModel",
       "_view_count": null,
       "_view_module": "@jupyter-widgets/base",
       "_view_module_version": "1.2.0",
       "_view_name": "StyleView",
       "description_width": ""
      }
     },
     "1b6fc33854a64e68a129ef6275be453d": {
      "model_module": "@jupyter-widgets/controls",
      "model_module_version": "1.5.0",
      "model_name": "HBoxModel",
      "state": {
       "_dom_classes": [],
       "_model_module": "@jupyter-widgets/controls",
       "_model_module_version": "1.5.0",
       "_model_name": "HBoxModel",
       "_view_count": null,
       "_view_module": "@jupyter-widgets/controls",
       "_view_module_version": "1.5.0",
       "_view_name": "HBoxView",
       "box_style": "",
       "children": [
        "IPY_MODEL_a6520c5a6e6c44dab7a6c4ad6b6a47c6",
        "IPY_MODEL_6db48795bd4e44e7b98f50a3d79de591",
        "IPY_MODEL_48a981b28bbe450daefd9f01b030c7aa"
       ],
       "layout": "IPY_MODEL_99fb651875084740a7813b713fd79413"
      }
     },
     "272aca848c1a4dc59d899ee00397c3ac": {
      "model_module": "@jupyter-widgets/controls",
      "model_module_version": "1.5.0",
      "model_name": "DescriptionStyleModel",
      "state": {
       "_model_module": "@jupyter-widgets/controls",
       "_model_module_version": "1.5.0",
       "_model_name": "DescriptionStyleModel",
       "_view_count": null,
       "_view_module": "@jupyter-widgets/base",
       "_view_module_version": "1.2.0",
       "_view_name": "StyleView",
       "description_width": ""
      }
     },
     "48a981b28bbe450daefd9f01b030c7aa": {
      "model_module": "@jupyter-widgets/controls",
      "model_module_version": "1.5.0",
      "model_name": "HTMLModel",
      "state": {
       "_dom_classes": [],
       "_model_module": "@jupyter-widgets/controls",
       "_model_module_version": "1.5.0",
       "_model_name": "HTMLModel",
       "_view_count": null,
       "_view_module": "@jupyter-widgets/controls",
       "_view_module_version": "1.5.0",
       "_view_name": "HTMLView",
       "description": "",
       "description_tooltip": null,
       "layout": "IPY_MODEL_cdf4b74486d84775bb0d5414e17c95c4",
       "placeholder": "​",
       "style": "IPY_MODEL_9677c81238cd4278926c8dce9530f1f1",
       "value": " 559M/559M [00:02&lt;00:00, 235MB/s]"
      }
     },
     "500441166b55480996ce1ba575e56df3": {
      "model_module": "@jupyter-widgets/controls",
      "model_module_version": "1.5.0",
      "model_name": "ProgressStyleModel",
      "state": {
       "_model_module": "@jupyter-widgets/controls",
       "_model_module_version": "1.5.0",
       "_model_name": "ProgressStyleModel",
       "_view_count": null,
       "_view_module": "@jupyter-widgets/base",
       "_view_module_version": "1.2.0",
       "_view_name": "StyleView",
       "bar_color": null,
       "description_width": ""
      }
     },
     "5992c0aeee2748879f1930a5c08782ca": {
      "model_module": "@jupyter-widgets/controls",
      "model_module_version": "1.5.0",
      "model_name": "DescriptionStyleModel",
      "state": {
       "_model_module": "@jupyter-widgets/controls",
       "_model_module_version": "1.5.0",
       "_model_name": "DescriptionStyleModel",
       "_view_count": null,
       "_view_module": "@jupyter-widgets/base",
       "_view_module_version": "1.2.0",
       "_view_name": "StyleView",
       "description_width": ""
      }
     },
     "6234c20a6023416c82332e53d97b28da": {
      "model_module": "@jupyter-widgets/base",
      "model_module_version": "1.2.0",
      "model_name": "LayoutModel",
      "state": {
       "_model_module": "@jupyter-widgets/base",
       "_model_module_version": "1.2.0",
       "_model_name": "LayoutModel",
       "_view_count": null,
       "_view_module": "@jupyter-widgets/base",
       "_view_module_version": "1.2.0",
       "_view_name": "LayoutView",
       "align_content": null,
       "align_items": null,
       "align_self": null,
       "border": null,
       "bottom": null,
       "display": null,
       "flex": null,
       "flex_flow": null,
       "grid_area": null,
       "grid_auto_columns": null,
       "grid_auto_flow": null,
       "grid_auto_rows": null,
       "grid_column": null,
       "grid_gap": null,
       "grid_row": null,
       "grid_template_areas": null,
       "grid_template_columns": null,
       "grid_template_rows": null,
       "height": null,
       "justify_content": null,
       "justify_items": null,
       "left": null,
       "margin": null,
       "max_height": null,
       "max_width": null,
       "min_height": null,
       "min_width": null,
       "object_fit": null,
       "object_position": null,
       "order": null,
       "overflow": null,
       "overflow_x": null,
       "overflow_y": null,
       "padding": null,
       "right": null,
       "top": null,
       "visibility": null,
       "width": null
      }
     },
     "63ec9fea93454864ac872dc9e785a8a9": {
      "model_module": "@jupyter-widgets/base",
      "model_module_version": "1.2.0",
      "model_name": "LayoutModel",
      "state": {
       "_model_module": "@jupyter-widgets/base",
       "_model_module_version": "1.2.0",
       "_model_name": "LayoutModel",
       "_view_count": null,
       "_view_module": "@jupyter-widgets/base",
       "_view_module_version": "1.2.0",
       "_view_name": "LayoutView",
       "align_content": null,
       "align_items": null,
       "align_self": null,
       "border": null,
       "bottom": null,
       "display": null,
       "flex": null,
       "flex_flow": null,
       "grid_area": null,
       "grid_auto_columns": null,
       "grid_auto_flow": null,
       "grid_auto_rows": null,
       "grid_column": null,
       "grid_gap": null,
       "grid_row": null,
       "grid_template_areas": null,
       "grid_template_columns": null,
       "grid_template_rows": null,
       "height": null,
       "justify_content": null,
       "justify_items": null,
       "left": null,
       "margin": null,
       "max_height": null,
       "max_width": null,
       "min_height": null,
       "min_width": null,
       "object_fit": null,
       "object_position": null,
       "order": null,
       "overflow": null,
       "overflow_x": null,
       "overflow_y": null,
       "padding": null,
       "right": null,
       "top": null,
       "visibility": null,
       "width": null
      }
     },
     "6db48795bd4e44e7b98f50a3d79de591": {
      "model_module": "@jupyter-widgets/controls",
      "model_module_version": "1.5.0",
      "model_name": "FloatProgressModel",
      "state": {
       "_dom_classes": [],
       "_model_module": "@jupyter-widgets/controls",
       "_model_module_version": "1.5.0",
       "_model_name": "FloatProgressModel",
       "_view_count": null,
       "_view_module": "@jupyter-widgets/controls",
       "_view_module_version": "1.5.0",
       "_view_name": "ProgressView",
       "bar_style": "success",
       "description": "",
       "description_tooltip": null,
       "layout": "IPY_MODEL_ee60d53164684e9dac23f33ce89aa1b4",
       "max": 558614189.0,
       "min": 0.0,
       "orientation": "horizontal",
       "style": "IPY_MODEL_500441166b55480996ce1ba575e56df3",
       "value": 558614189.0
      }
     },
     "7964f20dd11b40fab9ff3d02b4f98bb2": {
      "model_module": "@jupyter-widgets/base",
      "model_module_version": "1.2.0",
      "model_name": "LayoutModel",
      "state": {
       "_model_module": "@jupyter-widgets/base",
       "_model_module_version": "1.2.0",
       "_model_name": "LayoutModel",
       "_view_count": null,
       "_view_module": "@jupyter-widgets/base",
       "_view_module_version": "1.2.0",
       "_view_name": "LayoutView",
       "align_content": null,
       "align_items": null,
       "align_self": null,
       "border": null,
       "bottom": null,
       "display": null,
       "flex": null,
       "flex_flow": null,
       "grid_area": null,
       "grid_auto_columns": null,
       "grid_auto_flow": null,
       "grid_auto_rows": null,
       "grid_column": null,
       "grid_gap": null,
       "grid_row": null,
       "grid_template_areas": null,
       "grid_template_columns": null,
       "grid_template_rows": null,
       "height": null,
       "justify_content": null,
       "justify_items": null,
       "left": null,
       "margin": null,
       "max_height": null,
       "max_width": null,
       "min_height": null,
       "min_width": null,
       "object_fit": null,
       "object_position": null,
       "order": null,
       "overflow": null,
       "overflow_x": null,
       "overflow_y": null,
       "padding": null,
       "right": null,
       "top": null,
       "visibility": null,
       "width": null
      }
     },
     "86c3e97fdcee49109e1f8deae207590e": {
      "model_module": "@jupyter-widgets/controls",
      "model_module_version": "1.5.0",
      "model_name": "HBoxModel",
      "state": {
       "_dom_classes": [],
       "_model_module": "@jupyter-widgets/controls",
       "_model_module_version": "1.5.0",
       "_model_name": "HBoxModel",
       "_view_count": null,
       "_view_module": "@jupyter-widgets/controls",
       "_view_module_version": "1.5.0",
       "_view_name": "HBoxView",
       "box_style": "",
       "children": [
        "IPY_MODEL_f47a2dd713634923aaf0d92fbef9ca1f",
        "IPY_MODEL_c4d8a5afbe2c43669832f6487c7fe5a7",
        "IPY_MODEL_b56977290d624da6add27e2f23291b5a"
       ],
       "layout": "IPY_MODEL_cd2d6903cd374d768117682c119770d8"
      }
     },
     "9677c81238cd4278926c8dce9530f1f1": {
      "model_module": "@jupyter-widgets/controls",
      "model_module_version": "1.5.0",
      "model_name": "DescriptionStyleModel",
      "state": {
       "_model_module": "@jupyter-widgets/controls",
       "_model_module_version": "1.5.0",
       "_model_name": "DescriptionStyleModel",
       "_view_count": null,
       "_view_module": "@jupyter-widgets/base",
       "_view_module_version": "1.2.0",
       "_view_name": "StyleView",
       "description_width": ""
      }
     },
     "99fb651875084740a7813b713fd79413": {
      "model_module": "@jupyter-widgets/base",
      "model_module_version": "1.2.0",
      "model_name": "LayoutModel",
      "state": {
       "_model_module": "@jupyter-widgets/base",
       "_model_module_version": "1.2.0",
       "_model_name": "LayoutModel",
       "_view_count": null,
       "_view_module": "@jupyter-widgets/base",
       "_view_module_version": "1.2.0",
       "_view_name": "LayoutView",
       "align_content": null,
       "align_items": null,
       "align_self": null,
       "border": null,
       "bottom": null,
       "display": null,
       "flex": null,
       "flex_flow": null,
       "grid_area": null,
       "grid_auto_columns": null,
       "grid_auto_flow": null,
       "grid_auto_rows": null,
       "grid_column": null,
       "grid_gap": null,
       "grid_row": null,
       "grid_template_areas": null,
       "grid_template_columns": null,
       "grid_template_rows": null,
       "height": null,
       "justify_content": null,
       "justify_items": null,
       "left": null,
       "margin": null,
       "max_height": null,
       "max_width": null,
       "min_height": null,
       "min_width": null,
       "object_fit": null,
       "object_position": null,
       "order": null,
       "overflow": null,
       "overflow_x": null,
       "overflow_y": null,
       "padding": null,
       "right": null,
       "top": null,
       "visibility": null,
       "width": null
      }
     },
     "a6520c5a6e6c44dab7a6c4ad6b6a47c6": {
      "model_module": "@jupyter-widgets/controls",
      "model_module_version": "1.5.0",
      "model_name": "HTMLModel",
      "state": {
       "_dom_classes": [],
       "_model_module": "@jupyter-widgets/controls",
       "_model_module_version": "1.5.0",
       "_model_name": "HTMLModel",
       "_view_count": null,
       "_view_module": "@jupyter-widgets/controls",
       "_view_module_version": "1.5.0",
       "_view_name": "HTMLView",
       "description": "",
       "description_tooltip": null,
       "layout": "IPY_MODEL_63ec9fea93454864ac872dc9e785a8a9",
       "placeholder": "​",
       "style": "IPY_MODEL_13ce940d992a42c58675d6b640b9a27f",
       "value": "pytorch_model.bin: 100%"
      }
     },
     "b56977290d624da6add27e2f23291b5a": {
      "model_module": "@jupyter-widgets/controls",
      "model_module_version": "1.5.0",
      "model_name": "HTMLModel",
      "state": {
       "_dom_classes": [],
       "_model_module": "@jupyter-widgets/controls",
       "_model_module_version": "1.5.0",
       "_model_name": "HTMLModel",
       "_view_count": null,
       "_view_module": "@jupyter-widgets/controls",
       "_view_module_version": "1.5.0",
       "_view_name": "HTMLView",
       "description": "",
       "description_tooltip": null,
       "layout": "IPY_MODEL_7964f20dd11b40fab9ff3d02b4f98bb2",
       "placeholder": "​",
       "style": "IPY_MODEL_5992c0aeee2748879f1930a5c08782ca",
       "value": " 474/474 [00:00&lt;00:00, 36.5kB/s]"
      }
     },
     "b5f3ed3241f9455f876b56d3eac9731b": {
      "model_module": "@jupyter-widgets/base",
      "model_module_version": "1.2.0",
      "model_name": "LayoutModel",
      "state": {
       "_model_module": "@jupyter-widgets/base",
       "_model_module_version": "1.2.0",
       "_model_name": "LayoutModel",
       "_view_count": null,
       "_view_module": "@jupyter-widgets/base",
       "_view_module_version": "1.2.0",
       "_view_name": "LayoutView",
       "align_content": null,
       "align_items": null,
       "align_self": null,
       "border": null,
       "bottom": null,
       "display": null,
       "flex": null,
       "flex_flow": null,
       "grid_area": null,
       "grid_auto_columns": null,
       "grid_auto_flow": null,
       "grid_auto_rows": null,
       "grid_column": null,
       "grid_gap": null,
       "grid_row": null,
       "grid_template_areas": null,
       "grid_template_columns": null,
       "grid_template_rows": null,
       "height": null,
       "justify_content": null,
       "justify_items": null,
       "left": null,
       "margin": null,
       "max_height": null,
       "max_width": null,
       "min_height": null,
       "min_width": null,
       "object_fit": null,
       "object_position": null,
       "order": null,
       "overflow": null,
       "overflow_x": null,
       "overflow_y": null,
       "padding": null,
       "right": null,
       "top": null,
       "visibility": null,
       "width": null
      }
     },
     "c4d8a5afbe2c43669832f6487c7fe5a7": {
      "model_module": "@jupyter-widgets/controls",
      "model_module_version": "1.5.0",
      "model_name": "FloatProgressModel",
      "state": {
       "_dom_classes": [],
       "_model_module": "@jupyter-widgets/controls",
       "_model_module_version": "1.5.0",
       "_model_name": "FloatProgressModel",
       "_view_count": null,
       "_view_module": "@jupyter-widgets/controls",
       "_view_module_version": "1.5.0",
       "_view_name": "ProgressView",
       "bar_style": "success",
       "description": "",
       "description_tooltip": null,
       "layout": "IPY_MODEL_6234c20a6023416c82332e53d97b28da",
       "max": 474.0,
       "min": 0.0,
       "orientation": "horizontal",
       "style": "IPY_MODEL_e33d1f896f9945ebb5768826f4738a4e",
       "value": 474.0
      }
     },
     "cd2d6903cd374d768117682c119770d8": {
      "model_module": "@jupyter-widgets/base",
      "model_module_version": "1.2.0",
      "model_name": "LayoutModel",
      "state": {
       "_model_module": "@jupyter-widgets/base",
       "_model_module_version": "1.2.0",
       "_model_name": "LayoutModel",
       "_view_count": null,
       "_view_module": "@jupyter-widgets/base",
       "_view_module_version": "1.2.0",
       "_view_name": "LayoutView",
       "align_content": null,
       "align_items": null,
       "align_self": null,
       "border": null,
       "bottom": null,
       "display": null,
       "flex": null,
       "flex_flow": null,
       "grid_area": null,
       "grid_auto_columns": null,
       "grid_auto_flow": null,
       "grid_auto_rows": null,
       "grid_column": null,
       "grid_gap": null,
       "grid_row": null,
       "grid_template_areas": null,
       "grid_template_columns": null,
       "grid_template_rows": null,
       "height": null,
       "justify_content": null,
       "justify_items": null,
       "left": null,
       "margin": null,
       "max_height": null,
       "max_width": null,
       "min_height": null,
       "min_width": null,
       "object_fit": null,
       "object_position": null,
       "order": null,
       "overflow": null,
       "overflow_x": null,
       "overflow_y": null,
       "padding": null,
       "right": null,
       "top": null,
       "visibility": null,
       "width": null
      }
     },
     "cdf4b74486d84775bb0d5414e17c95c4": {
      "model_module": "@jupyter-widgets/base",
      "model_module_version": "1.2.0",
      "model_name": "LayoutModel",
      "state": {
       "_model_module": "@jupyter-widgets/base",
       "_model_module_version": "1.2.0",
       "_model_name": "LayoutModel",
       "_view_count": null,
       "_view_module": "@jupyter-widgets/base",
       "_view_module_version": "1.2.0",
       "_view_name": "LayoutView",
       "align_content": null,
       "align_items": null,
       "align_self": null,
       "border": null,
       "bottom": null,
       "display": null,
       "flex": null,
       "flex_flow": null,
       "grid_area": null,
       "grid_auto_columns": null,
       "grid_auto_flow": null,
       "grid_auto_rows": null,
       "grid_column": null,
       "grid_gap": null,
       "grid_row": null,
       "grid_template_areas": null,
       "grid_template_columns": null,
       "grid_template_rows": null,
       "height": null,
       "justify_content": null,
       "justify_items": null,
       "left": null,
       "margin": null,
       "max_height": null,
       "max_width": null,
       "min_height": null,
       "min_width": null,
       "object_fit": null,
       "object_position": null,
       "order": null,
       "overflow": null,
       "overflow_x": null,
       "overflow_y": null,
       "padding": null,
       "right": null,
       "top": null,
       "visibility": null,
       "width": null
      }
     },
     "e33d1f896f9945ebb5768826f4738a4e": {
      "model_module": "@jupyter-widgets/controls",
      "model_module_version": "1.5.0",
      "model_name": "ProgressStyleModel",
      "state": {
       "_model_module": "@jupyter-widgets/controls",
       "_model_module_version": "1.5.0",
       "_model_name": "ProgressStyleModel",
       "_view_count": null,
       "_view_module": "@jupyter-widgets/base",
       "_view_module_version": "1.2.0",
       "_view_name": "StyleView",
       "bar_color": null,
       "description_width": ""
      }
     },
     "ee60d53164684e9dac23f33ce89aa1b4": {
      "model_module": "@jupyter-widgets/base",
      "model_module_version": "1.2.0",
      "model_name": "LayoutModel",
      "state": {
       "_model_module": "@jupyter-widgets/base",
       "_model_module_version": "1.2.0",
       "_model_name": "LayoutModel",
       "_view_count": null,
       "_view_module": "@jupyter-widgets/base",
       "_view_module_version": "1.2.0",
       "_view_name": "LayoutView",
       "align_content": null,
       "align_items": null,
       "align_self": null,
       "border": null,
       "bottom": null,
       "display": null,
       "flex": null,
       "flex_flow": null,
       "grid_area": null,
       "grid_auto_columns": null,
       "grid_auto_flow": null,
       "grid_auto_rows": null,
       "grid_column": null,
       "grid_gap": null,
       "grid_row": null,
       "grid_template_areas": null,
       "grid_template_columns": null,
       "grid_template_rows": null,
       "height": null,
       "justify_content": null,
       "justify_items": null,
       "left": null,
       "margin": null,
       "max_height": null,
       "max_width": null,
       "min_height": null,
       "min_width": null,
       "object_fit": null,
       "object_position": null,
       "order": null,
       "overflow": null,
       "overflow_x": null,
       "overflow_y": null,
       "padding": null,
       "right": null,
       "top": null,
       "visibility": null,
       "width": null
      }
     },
     "f47a2dd713634923aaf0d92fbef9ca1f": {
      "model_module": "@jupyter-widgets/controls",
      "model_module_version": "1.5.0",
      "model_name": "HTMLModel",
      "state": {
       "_dom_classes": [],
       "_model_module": "@jupyter-widgets/controls",
       "_model_module_version": "1.5.0",
       "_model_name": "HTMLModel",
       "_view_count": null,
       "_view_module": "@jupyter-widgets/controls",
       "_view_module_version": "1.5.0",
       "_view_name": "HTMLView",
       "description": "",
       "description_tooltip": null,
       "layout": "IPY_MODEL_b5f3ed3241f9455f876b56d3eac9731b",
       "placeholder": "​",
       "style": "IPY_MODEL_272aca848c1a4dc59d899ee00397c3ac",
       "value": "config.json: 100%"
      }
     }
    },
    "version_major": 2,
    "version_minor": 0
   }
  }
 },
 "nbformat": 4,
 "nbformat_minor": 5
}
