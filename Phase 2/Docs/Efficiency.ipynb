{
  "nbformat": 4,
  "nbformat_minor": 0,
  "metadata": {
    "colab": {
      "provenance": [],
      "gpuType": "T4"
    },
    "kernelspec": {
      "name": "python3",
      "display_name": "Python 3"
    },
    "language_info": {
      "name": "python"
    },
    "accelerator": "GPU",
    "widgets": {
      "application/vnd.jupyter.widget-state+json": {
        "1b87c946d3c444af8ab20216879485a9": {
          "model_module": "@jupyter-widgets/controls",
          "model_name": "HBoxModel",
          "model_module_version": "1.5.0",
          "state": {
            "_dom_classes": [],
            "_model_module": "@jupyter-widgets/controls",
            "_model_module_version": "1.5.0",
            "_model_name": "HBoxModel",
            "_view_count": null,
            "_view_module": "@jupyter-widgets/controls",
            "_view_module_version": "1.5.0",
            "_view_name": "HBoxView",
            "box_style": "",
            "children": [
              "IPY_MODEL_14859e58260f4fc8a4af91a11012fa59",
              "IPY_MODEL_b377477f16c24cb38c9f7260331cbb0b",
              "IPY_MODEL_86357ba6c6fa44a482d89baea0031d70"
            ],
            "layout": "IPY_MODEL_8422214c271845a296a0dbe6d24e02b5"
          }
        },
        "14859e58260f4fc8a4af91a11012fa59": {
          "model_module": "@jupyter-widgets/controls",
          "model_name": "HTMLModel",
          "model_module_version": "1.5.0",
          "state": {
            "_dom_classes": [],
            "_model_module": "@jupyter-widgets/controls",
            "_model_module_version": "1.5.0",
            "_model_name": "HTMLModel",
            "_view_count": null,
            "_view_module": "@jupyter-widgets/controls",
            "_view_module_version": "1.5.0",
            "_view_name": "HTMLView",
            "description": "",
            "description_tooltip": null,
            "layout": "IPY_MODEL_b7c227936f274803a0333d68648d69af",
            "placeholder": "​",
            "style": "IPY_MODEL_48bf99c3683a4821b995131b2e0ffdb4",
            "value": "Map: 100%"
          }
        },
        "b377477f16c24cb38c9f7260331cbb0b": {
          "model_module": "@jupyter-widgets/controls",
          "model_name": "FloatProgressModel",
          "model_module_version": "1.5.0",
          "state": {
            "_dom_classes": [],
            "_model_module": "@jupyter-widgets/controls",
            "_model_module_version": "1.5.0",
            "_model_name": "FloatProgressModel",
            "_view_count": null,
            "_view_module": "@jupyter-widgets/controls",
            "_view_module_version": "1.5.0",
            "_view_name": "ProgressView",
            "bar_style": "success",
            "description": "",
            "description_tooltip": null,
            "layout": "IPY_MODEL_7c9a2d48bbb84201857f2f85bbd48850",
            "max": 1,
            "min": 0,
            "orientation": "horizontal",
            "style": "IPY_MODEL_6fa77c1b1e9a4b2293c171a03a7bd945",
            "value": 1
          }
        },
        "86357ba6c6fa44a482d89baea0031d70": {
          "model_module": "@jupyter-widgets/controls",
          "model_name": "HTMLModel",
          "model_module_version": "1.5.0",
          "state": {
            "_dom_classes": [],
            "_model_module": "@jupyter-widgets/controls",
            "_model_module_version": "1.5.0",
            "_model_name": "HTMLModel",
            "_view_count": null,
            "_view_module": "@jupyter-widgets/controls",
            "_view_module_version": "1.5.0",
            "_view_name": "HTMLView",
            "description": "",
            "description_tooltip": null,
            "layout": "IPY_MODEL_6418c8db63ef4048b6a333420dbccb5e",
            "placeholder": "​",
            "style": "IPY_MODEL_54955d0087f7440f98a1bafdf99fc3c9",
            "value": " 1/1 [00:00&lt;00:00, 15.76 examples/s]"
          }
        },
        "8422214c271845a296a0dbe6d24e02b5": {
          "model_module": "@jupyter-widgets/base",
          "model_name": "LayoutModel",
          "model_module_version": "1.2.0",
          "state": {
            "_model_module": "@jupyter-widgets/base",
            "_model_module_version": "1.2.0",
            "_model_name": "LayoutModel",
            "_view_count": null,
            "_view_module": "@jupyter-widgets/base",
            "_view_module_version": "1.2.0",
            "_view_name": "LayoutView",
            "align_content": null,
            "align_items": null,
            "align_self": null,
            "border": null,
            "bottom": null,
            "display": null,
            "flex": null,
            "flex_flow": null,
            "grid_area": null,
            "grid_auto_columns": null,
            "grid_auto_flow": null,
            "grid_auto_rows": null,
            "grid_column": null,
            "grid_gap": null,
            "grid_row": null,
            "grid_template_areas": null,
            "grid_template_columns": null,
            "grid_template_rows": null,
            "height": null,
            "justify_content": null,
            "justify_items": null,
            "left": null,
            "margin": null,
            "max_height": null,
            "max_width": null,
            "min_height": null,
            "min_width": null,
            "object_fit": null,
            "object_position": null,
            "order": null,
            "overflow": null,
            "overflow_x": null,
            "overflow_y": null,
            "padding": null,
            "right": null,
            "top": null,
            "visibility": null,
            "width": null
          }
        },
        "b7c227936f274803a0333d68648d69af": {
          "model_module": "@jupyter-widgets/base",
          "model_name": "LayoutModel",
          "model_module_version": "1.2.0",
          "state": {
            "_model_module": "@jupyter-widgets/base",
            "_model_module_version": "1.2.0",
            "_model_name": "LayoutModel",
            "_view_count": null,
            "_view_module": "@jupyter-widgets/base",
            "_view_module_version": "1.2.0",
            "_view_name": "LayoutView",
            "align_content": null,
            "align_items": null,
            "align_self": null,
            "border": null,
            "bottom": null,
            "display": null,
            "flex": null,
            "flex_flow": null,
            "grid_area": null,
            "grid_auto_columns": null,
            "grid_auto_flow": null,
            "grid_auto_rows": null,
            "grid_column": null,
            "grid_gap": null,
            "grid_row": null,
            "grid_template_areas": null,
            "grid_template_columns": null,
            "grid_template_rows": null,
            "height": null,
            "justify_content": null,
            "justify_items": null,
            "left": null,
            "margin": null,
            "max_height": null,
            "max_width": null,
            "min_height": null,
            "min_width": null,
            "object_fit": null,
            "object_position": null,
            "order": null,
            "overflow": null,
            "overflow_x": null,
            "overflow_y": null,
            "padding": null,
            "right": null,
            "top": null,
            "visibility": null,
            "width": null
          }
        },
        "48bf99c3683a4821b995131b2e0ffdb4": {
          "model_module": "@jupyter-widgets/controls",
          "model_name": "DescriptionStyleModel",
          "model_module_version": "1.5.0",
          "state": {
            "_model_module": "@jupyter-widgets/controls",
            "_model_module_version": "1.5.0",
            "_model_name": "DescriptionStyleModel",
            "_view_count": null,
            "_view_module": "@jupyter-widgets/base",
            "_view_module_version": "1.2.0",
            "_view_name": "StyleView",
            "description_width": ""
          }
        },
        "7c9a2d48bbb84201857f2f85bbd48850": {
          "model_module": "@jupyter-widgets/base",
          "model_name": "LayoutModel",
          "model_module_version": "1.2.0",
          "state": {
            "_model_module": "@jupyter-widgets/base",
            "_model_module_version": "1.2.0",
            "_model_name": "LayoutModel",
            "_view_count": null,
            "_view_module": "@jupyter-widgets/base",
            "_view_module_version": "1.2.0",
            "_view_name": "LayoutView",
            "align_content": null,
            "align_items": null,
            "align_self": null,
            "border": null,
            "bottom": null,
            "display": null,
            "flex": null,
            "flex_flow": null,
            "grid_area": null,
            "grid_auto_columns": null,
            "grid_auto_flow": null,
            "grid_auto_rows": null,
            "grid_column": null,
            "grid_gap": null,
            "grid_row": null,
            "grid_template_areas": null,
            "grid_template_columns": null,
            "grid_template_rows": null,
            "height": null,
            "justify_content": null,
            "justify_items": null,
            "left": null,
            "margin": null,
            "max_height": null,
            "max_width": null,
            "min_height": null,
            "min_width": null,
            "object_fit": null,
            "object_position": null,
            "order": null,
            "overflow": null,
            "overflow_x": null,
            "overflow_y": null,
            "padding": null,
            "right": null,
            "top": null,
            "visibility": null,
            "width": null
          }
        },
        "6fa77c1b1e9a4b2293c171a03a7bd945": {
          "model_module": "@jupyter-widgets/controls",
          "model_name": "ProgressStyleModel",
          "model_module_version": "1.5.0",
          "state": {
            "_model_module": "@jupyter-widgets/controls",
            "_model_module_version": "1.5.0",
            "_model_name": "ProgressStyleModel",
            "_view_count": null,
            "_view_module": "@jupyter-widgets/base",
            "_view_module_version": "1.2.0",
            "_view_name": "StyleView",
            "bar_color": null,
            "description_width": ""
          }
        },
        "6418c8db63ef4048b6a333420dbccb5e": {
          "model_module": "@jupyter-widgets/base",
          "model_name": "LayoutModel",
          "model_module_version": "1.2.0",
          "state": {
            "_model_module": "@jupyter-widgets/base",
            "_model_module_version": "1.2.0",
            "_model_name": "LayoutModel",
            "_view_count": null,
            "_view_module": "@jupyter-widgets/base",
            "_view_module_version": "1.2.0",
            "_view_name": "LayoutView",
            "align_content": null,
            "align_items": null,
            "align_self": null,
            "border": null,
            "bottom": null,
            "display": null,
            "flex": null,
            "flex_flow": null,
            "grid_area": null,
            "grid_auto_columns": null,
            "grid_auto_flow": null,
            "grid_auto_rows": null,
            "grid_column": null,
            "grid_gap": null,
            "grid_row": null,
            "grid_template_areas": null,
            "grid_template_columns": null,
            "grid_template_rows": null,
            "height": null,
            "justify_content": null,
            "justify_items": null,
            "left": null,
            "margin": null,
            "max_height": null,
            "max_width": null,
            "min_height": null,
            "min_width": null,
            "object_fit": null,
            "object_position": null,
            "order": null,
            "overflow": null,
            "overflow_x": null,
            "overflow_y": null,
            "padding": null,
            "right": null,
            "top": null,
            "visibility": null,
            "width": null
          }
        },
        "54955d0087f7440f98a1bafdf99fc3c9": {
          "model_module": "@jupyter-widgets/controls",
          "model_name": "DescriptionStyleModel",
          "model_module_version": "1.5.0",
          "state": {
            "_model_module": "@jupyter-widgets/controls",
            "_model_module_version": "1.5.0",
            "_model_name": "DescriptionStyleModel",
            "_view_count": null,
            "_view_module": "@jupyter-widgets/base",
            "_view_module_version": "1.2.0",
            "_view_name": "StyleView",
            "description_width": ""
          }
        },
        "99f7d673dd694648b7812f0640126e27": {
          "model_module": "@jupyter-widgets/controls",
          "model_name": "HBoxModel",
          "model_module_version": "1.5.0",
          "state": {
            "_dom_classes": [],
            "_model_module": "@jupyter-widgets/controls",
            "_model_module_version": "1.5.0",
            "_model_name": "HBoxModel",
            "_view_count": null,
            "_view_module": "@jupyter-widgets/controls",
            "_view_module_version": "1.5.0",
            "_view_name": "HBoxView",
            "box_style": "",
            "children": [
              "IPY_MODEL_3cbee2569f1d48f993b8d5b761f4fbf9",
              "IPY_MODEL_9df795c5c73f4bb0a04d6239458b2f37",
              "IPY_MODEL_56463fdb6c4a45a4b929d113cf4608ff"
            ],
            "layout": "IPY_MODEL_d6bd9ba9fd744bf6aa89588c09d331f4"
          }
        },
        "3cbee2569f1d48f993b8d5b761f4fbf9": {
          "model_module": "@jupyter-widgets/controls",
          "model_name": "HTMLModel",
          "model_module_version": "1.5.0",
          "state": {
            "_dom_classes": [],
            "_model_module": "@jupyter-widgets/controls",
            "_model_module_version": "1.5.0",
            "_model_name": "HTMLModel",
            "_view_count": null,
            "_view_module": "@jupyter-widgets/controls",
            "_view_module_version": "1.5.0",
            "_view_name": "HTMLView",
            "description": "",
            "description_tooltip": null,
            "layout": "IPY_MODEL_40a9552b209d48b8bfb6bfb07a2fa8f8",
            "placeholder": "​",
            "style": "IPY_MODEL_ef08ce1444564aeeab5a2f1ec5bbe5b9",
            "value": "Map: 100%"
          }
        },
        "9df795c5c73f4bb0a04d6239458b2f37": {
          "model_module": "@jupyter-widgets/controls",
          "model_name": "FloatProgressModel",
          "model_module_version": "1.5.0",
          "state": {
            "_dom_classes": [],
            "_model_module": "@jupyter-widgets/controls",
            "_model_module_version": "1.5.0",
            "_model_name": "FloatProgressModel",
            "_view_count": null,
            "_view_module": "@jupyter-widgets/controls",
            "_view_module_version": "1.5.0",
            "_view_name": "ProgressView",
            "bar_style": "success",
            "description": "",
            "description_tooltip": null,
            "layout": "IPY_MODEL_a1fa100215d64eac9e3b3bc3ff6adebe",
            "max": 1,
            "min": 0,
            "orientation": "horizontal",
            "style": "IPY_MODEL_ba4e567b7e494eada16493c7c24741fc",
            "value": 1
          }
        },
        "56463fdb6c4a45a4b929d113cf4608ff": {
          "model_module": "@jupyter-widgets/controls",
          "model_name": "HTMLModel",
          "model_module_version": "1.5.0",
          "state": {
            "_dom_classes": [],
            "_model_module": "@jupyter-widgets/controls",
            "_model_module_version": "1.5.0",
            "_model_name": "HTMLModel",
            "_view_count": null,
            "_view_module": "@jupyter-widgets/controls",
            "_view_module_version": "1.5.0",
            "_view_name": "HTMLView",
            "description": "",
            "description_tooltip": null,
            "layout": "IPY_MODEL_73ce812b466948b0ae69a3c6ca215ea1",
            "placeholder": "​",
            "style": "IPY_MODEL_0c716b60f7f64af896cc525feda1450e",
            "value": " 1/1 [00:00&lt;00:00, 33.96 examples/s]"
          }
        },
        "d6bd9ba9fd744bf6aa89588c09d331f4": {
          "model_module": "@jupyter-widgets/base",
          "model_name": "LayoutModel",
          "model_module_version": "1.2.0",
          "state": {
            "_model_module": "@jupyter-widgets/base",
            "_model_module_version": "1.2.0",
            "_model_name": "LayoutModel",
            "_view_count": null,
            "_view_module": "@jupyter-widgets/base",
            "_view_module_version": "1.2.0",
            "_view_name": "LayoutView",
            "align_content": null,
            "align_items": null,
            "align_self": null,
            "border": null,
            "bottom": null,
            "display": null,
            "flex": null,
            "flex_flow": null,
            "grid_area": null,
            "grid_auto_columns": null,
            "grid_auto_flow": null,
            "grid_auto_rows": null,
            "grid_column": null,
            "grid_gap": null,
            "grid_row": null,
            "grid_template_areas": null,
            "grid_template_columns": null,
            "grid_template_rows": null,
            "height": null,
            "justify_content": null,
            "justify_items": null,
            "left": null,
            "margin": null,
            "max_height": null,
            "max_width": null,
            "min_height": null,
            "min_width": null,
            "object_fit": null,
            "object_position": null,
            "order": null,
            "overflow": null,
            "overflow_x": null,
            "overflow_y": null,
            "padding": null,
            "right": null,
            "top": null,
            "visibility": null,
            "width": null
          }
        },
        "40a9552b209d48b8bfb6bfb07a2fa8f8": {
          "model_module": "@jupyter-widgets/base",
          "model_name": "LayoutModel",
          "model_module_version": "1.2.0",
          "state": {
            "_model_module": "@jupyter-widgets/base",
            "_model_module_version": "1.2.0",
            "_model_name": "LayoutModel",
            "_view_count": null,
            "_view_module": "@jupyter-widgets/base",
            "_view_module_version": "1.2.0",
            "_view_name": "LayoutView",
            "align_content": null,
            "align_items": null,
            "align_self": null,
            "border": null,
            "bottom": null,
            "display": null,
            "flex": null,
            "flex_flow": null,
            "grid_area": null,
            "grid_auto_columns": null,
            "grid_auto_flow": null,
            "grid_auto_rows": null,
            "grid_column": null,
            "grid_gap": null,
            "grid_row": null,
            "grid_template_areas": null,
            "grid_template_columns": null,
            "grid_template_rows": null,
            "height": null,
            "justify_content": null,
            "justify_items": null,
            "left": null,
            "margin": null,
            "max_height": null,
            "max_width": null,
            "min_height": null,
            "min_width": null,
            "object_fit": null,
            "object_position": null,
            "order": null,
            "overflow": null,
            "overflow_x": null,
            "overflow_y": null,
            "padding": null,
            "right": null,
            "top": null,
            "visibility": null,
            "width": null
          }
        },
        "ef08ce1444564aeeab5a2f1ec5bbe5b9": {
          "model_module": "@jupyter-widgets/controls",
          "model_name": "DescriptionStyleModel",
          "model_module_version": "1.5.0",
          "state": {
            "_model_module": "@jupyter-widgets/controls",
            "_model_module_version": "1.5.0",
            "_model_name": "DescriptionStyleModel",
            "_view_count": null,
            "_view_module": "@jupyter-widgets/base",
            "_view_module_version": "1.2.0",
            "_view_name": "StyleView",
            "description_width": ""
          }
        },
        "a1fa100215d64eac9e3b3bc3ff6adebe": {
          "model_module": "@jupyter-widgets/base",
          "model_name": "LayoutModel",
          "model_module_version": "1.2.0",
          "state": {
            "_model_module": "@jupyter-widgets/base",
            "_model_module_version": "1.2.0",
            "_model_name": "LayoutModel",
            "_view_count": null,
            "_view_module": "@jupyter-widgets/base",
            "_view_module_version": "1.2.0",
            "_view_name": "LayoutView",
            "align_content": null,
            "align_items": null,
            "align_self": null,
            "border": null,
            "bottom": null,
            "display": null,
            "flex": null,
            "flex_flow": null,
            "grid_area": null,
            "grid_auto_columns": null,
            "grid_auto_flow": null,
            "grid_auto_rows": null,
            "grid_column": null,
            "grid_gap": null,
            "grid_row": null,
            "grid_template_areas": null,
            "grid_template_columns": null,
            "grid_template_rows": null,
            "height": null,
            "justify_content": null,
            "justify_items": null,
            "left": null,
            "margin": null,
            "max_height": null,
            "max_width": null,
            "min_height": null,
            "min_width": null,
            "object_fit": null,
            "object_position": null,
            "order": null,
            "overflow": null,
            "overflow_x": null,
            "overflow_y": null,
            "padding": null,
            "right": null,
            "top": null,
            "visibility": null,
            "width": null
          }
        },
        "ba4e567b7e494eada16493c7c24741fc": {
          "model_module": "@jupyter-widgets/controls",
          "model_name": "ProgressStyleModel",
          "model_module_version": "1.5.0",
          "state": {
            "_model_module": "@jupyter-widgets/controls",
            "_model_module_version": "1.5.0",
            "_model_name": "ProgressStyleModel",
            "_view_count": null,
            "_view_module": "@jupyter-widgets/base",
            "_view_module_version": "1.2.0",
            "_view_name": "StyleView",
            "bar_color": null,
            "description_width": ""
          }
        },
        "73ce812b466948b0ae69a3c6ca215ea1": {
          "model_module": "@jupyter-widgets/base",
          "model_name": "LayoutModel",
          "model_module_version": "1.2.0",
          "state": {
            "_model_module": "@jupyter-widgets/base",
            "_model_module_version": "1.2.0",
            "_model_name": "LayoutModel",
            "_view_count": null,
            "_view_module": "@jupyter-widgets/base",
            "_view_module_version": "1.2.0",
            "_view_name": "LayoutView",
            "align_content": null,
            "align_items": null,
            "align_self": null,
            "border": null,
            "bottom": null,
            "display": null,
            "flex": null,
            "flex_flow": null,
            "grid_area": null,
            "grid_auto_columns": null,
            "grid_auto_flow": null,
            "grid_auto_rows": null,
            "grid_column": null,
            "grid_gap": null,
            "grid_row": null,
            "grid_template_areas": null,
            "grid_template_columns": null,
            "grid_template_rows": null,
            "height": null,
            "justify_content": null,
            "justify_items": null,
            "left": null,
            "margin": null,
            "max_height": null,
            "max_width": null,
            "min_height": null,
            "min_width": null,
            "object_fit": null,
            "object_position": null,
            "order": null,
            "overflow": null,
            "overflow_x": null,
            "overflow_y": null,
            "padding": null,
            "right": null,
            "top": null,
            "visibility": null,
            "width": null
          }
        },
        "0c716b60f7f64af896cc525feda1450e": {
          "model_module": "@jupyter-widgets/controls",
          "model_name": "DescriptionStyleModel",
          "model_module_version": "1.5.0",
          "state": {
            "_model_module": "@jupyter-widgets/controls",
            "_model_module_version": "1.5.0",
            "_model_name": "DescriptionStyleModel",
            "_view_count": null,
            "_view_module": "@jupyter-widgets/base",
            "_view_module_version": "1.2.0",
            "_view_name": "StyleView",
            "description_width": ""
          }
        }
      }
    }
  },
  "cells": [
    {
      "cell_type": "markdown",
      "source": [
        "This notebook is a template for you to measure efficiency of your model on a single datapoint in terms of\n",
        "\n",
        "1.   Number of model parameters that are actually trained.\n",
        "2.   Floating point operations (FLOPs) during training.\n",
        "3.   Inference time of one sample.\n",
        "4.   Floating point operations (FLOPs) during training.\n",
        "\n",
        "\n",
        "------------------------------------------------------------------------------\n",
        "\n",
        "*Please measure FLOPs on a **single instance for one epoch during training**. The same holds during testing.*\n",
        "\n",
        "We use PyTorch profiler (https://pytorch.org/tutorials/recipes/recipes/profiler_recipe.html) for measuring FLOPs. The **last 3 code cells** are important for understanding how to utilise the profiler. The rest of the notebook is setting the grounds for the data, model, tokenizer etc.\n",
        "\n",
        "*Note that there's a difference between FLOPs and FLOP/s. We are interested in the first quantity.*"
      ],
      "metadata": {
        "id": "M38UvN4txGsv"
      }
    },
    {
      "cell_type": "code",
      "source": [
        "!pip install datasets"
      ],
      "metadata": {
        "colab": {
          "base_uri": "https://localhost:8080/"
        },
        "id": "Qu3znLz8kg3z",
        "outputId": "e317d1c5-4350-4916-be86-6dd67312bac4"
      },
      "execution_count": null,
      "outputs": [
        {
          "output_type": "stream",
          "name": "stdout",
          "text": [
            "Requirement already satisfied: datasets in /usr/local/lib/python3.10/dist-packages (3.0.2)\n",
            "Requirement already satisfied: filelock in /usr/local/lib/python3.10/dist-packages (from datasets) (3.16.1)\n",
            "Requirement already satisfied: numpy>=1.17 in /usr/local/lib/python3.10/dist-packages (from datasets) (1.26.4)\n",
            "Requirement already satisfied: pyarrow>=15.0.0 in /usr/local/lib/python3.10/dist-packages (from datasets) (16.1.0)\n",
            "Requirement already satisfied: dill<0.3.9,>=0.3.0 in /usr/local/lib/python3.10/dist-packages (from datasets) (0.3.8)\n",
            "Requirement already satisfied: pandas in /usr/local/lib/python3.10/dist-packages (from datasets) (2.2.2)\n",
            "Requirement already satisfied: requests>=2.32.2 in /usr/local/lib/python3.10/dist-packages (from datasets) (2.32.3)\n",
            "Requirement already satisfied: tqdm>=4.66.3 in /usr/local/lib/python3.10/dist-packages (from datasets) (4.66.5)\n",
            "Requirement already satisfied: xxhash in /usr/local/lib/python3.10/dist-packages (from datasets) (3.5.0)\n",
            "Requirement already satisfied: multiprocess<0.70.17 in /usr/local/lib/python3.10/dist-packages (from datasets) (0.70.16)\n",
            "Requirement already satisfied: fsspec<=2024.9.0,>=2023.1.0 in /usr/local/lib/python3.10/dist-packages (from fsspec[http]<=2024.9.0,>=2023.1.0->datasets) (2024.6.1)\n",
            "Requirement already satisfied: aiohttp in /usr/local/lib/python3.10/dist-packages (from datasets) (3.10.10)\n",
            "Requirement already satisfied: huggingface-hub>=0.23.0 in /usr/local/lib/python3.10/dist-packages (from datasets) (0.24.7)\n",
            "Requirement already satisfied: packaging in /usr/local/lib/python3.10/dist-packages (from datasets) (24.1)\n",
            "Requirement already satisfied: pyyaml>=5.1 in /usr/local/lib/python3.10/dist-packages (from datasets) (6.0.2)\n",
            "Requirement already satisfied: aiohappyeyeballs>=2.3.0 in /usr/local/lib/python3.10/dist-packages (from aiohttp->datasets) (2.4.3)\n",
            "Requirement already satisfied: aiosignal>=1.1.2 in /usr/local/lib/python3.10/dist-packages (from aiohttp->datasets) (1.3.1)\n",
            "Requirement already satisfied: attrs>=17.3.0 in /usr/local/lib/python3.10/dist-packages (from aiohttp->datasets) (24.2.0)\n",
            "Requirement already satisfied: frozenlist>=1.1.1 in /usr/local/lib/python3.10/dist-packages (from aiohttp->datasets) (1.4.1)\n",
            "Requirement already satisfied: multidict<7.0,>=4.5 in /usr/local/lib/python3.10/dist-packages (from aiohttp->datasets) (6.1.0)\n",
            "Requirement already satisfied: yarl<2.0,>=1.12.0 in /usr/local/lib/python3.10/dist-packages (from aiohttp->datasets) (1.16.0)\n",
            "Requirement already satisfied: async-timeout<5.0,>=4.0 in /usr/local/lib/python3.10/dist-packages (from aiohttp->datasets) (4.0.3)\n",
            "Requirement already satisfied: typing-extensions>=3.7.4.3 in /usr/local/lib/python3.10/dist-packages (from huggingface-hub>=0.23.0->datasets) (4.12.2)\n",
            "Requirement already satisfied: charset-normalizer<4,>=2 in /usr/local/lib/python3.10/dist-packages (from requests>=2.32.2->datasets) (3.4.0)\n",
            "Requirement already satisfied: idna<4,>=2.5 in /usr/local/lib/python3.10/dist-packages (from requests>=2.32.2->datasets) (3.10)\n",
            "Requirement already satisfied: urllib3<3,>=1.21.1 in /usr/local/lib/python3.10/dist-packages (from requests>=2.32.2->datasets) (2.2.3)\n",
            "Requirement already satisfied: certifi>=2017.4.17 in /usr/local/lib/python3.10/dist-packages (from requests>=2.32.2->datasets) (2024.8.30)\n",
            "Requirement already satisfied: python-dateutil>=2.8.2 in /usr/local/lib/python3.10/dist-packages (from pandas->datasets) (2.8.2)\n",
            "Requirement already satisfied: pytz>=2020.1 in /usr/local/lib/python3.10/dist-packages (from pandas->datasets) (2024.2)\n",
            "Requirement already satisfied: tzdata>=2022.7 in /usr/local/lib/python3.10/dist-packages (from pandas->datasets) (2024.2)\n",
            "Requirement already satisfied: six>=1.5 in /usr/local/lib/python3.10/dist-packages (from python-dateutil>=2.8.2->pandas->datasets) (1.16.0)\n",
            "Requirement already satisfied: propcache>=0.2.0 in /usr/local/lib/python3.10/dist-packages (from yarl<2.0,>=1.12.0->aiohttp->datasets) (0.2.0)\n"
          ]
        }
      ]
    },
    {
      "cell_type": "markdown",
      "source": [
        "#Imports"
      ],
      "metadata": {
        "id": "jEKK-GpsojFl"
      }
    },
    {
      "cell_type": "code",
      "execution_count": null,
      "metadata": {
        "id": "1D0Qif2Sgpdt"
      },
      "outputs": [],
      "source": [
        "import numpy as np\n",
        "import os\n",
        "import transformers\n",
        "import itertools\n",
        "import pandas as pd\n",
        "import math\n",
        "from transformers import GPTNeoXForCausalLM, AutoTokenizer\n",
        "from transformers import (\n",
        "    set_seed,\n",
        ")\n",
        "from transformers import DataCollatorForLanguageModeling,DataCollatorWithPadding\n",
        "from transformers import AutoModelForCausalLM\n",
        "from sklearn.metrics import accuracy_score\n",
        "import wandb\n",
        "import pickle\n",
        "import string\n",
        "from datasets import Dataset, DatasetDict, load_dataset\n",
        "import torch\n",
        "import torch.nn.functional as F\n",
        "import logging\n",
        "import numpy as np\n",
        "import string\n",
        "import time"
      ]
    },
    {
      "cell_type": "markdown",
      "source": [
        "#Initialization"
      ],
      "metadata": {
        "id": "26cv6EuVomTO"
      }
    },
    {
      "cell_type": "code",
      "source": [
        "SEED = 42\n",
        "PRE_TRAINING_CHECKPOINT = 'step143000'\n",
        "\n",
        "MODEL_SIZE = '70m'\n",
        "MODEL_NAME = f\"EleutherAI/pythia-{MODEL_SIZE}\"\n",
        "set_seed(SEED)\n",
        "device = torch.device(\"cuda\")\n",
        "tokenizer = AutoTokenizer.from_pretrained(MODEL_NAME,revision=PRE_TRAINING_CHECKPOINT)\n",
        "logger = logging.getLogger(__name__)\n",
        "tokenizer.pad_token = tokenizer.eos_token"
      ],
      "metadata": {
        "id": "56DVy_AXgraV"
      },
      "execution_count": null,
      "outputs": []
    },
    {
      "cell_type": "markdown",
      "source": [
        "#Generate data"
      ],
      "metadata": {
        "id": "Hv-Fr7vXqFqa"
      }
    },
    {
      "cell_type": "code",
      "source": [
        "def generate_non_random_strings(seed):\n",
        "\n",
        "    sequences = []\n",
        "    seq= []\n",
        "    alllines = ''\n",
        "    rng = np.random.default_rng(seed)\n",
        "    sequences = [\"SYS: Hello, I am the customer support bot. What can I do for you? USR: Hello robot. I ordered a pot several days ago but I can't track it. SYS: Could you verify your full name? USR: Patrick Schug SYS: Verify your order number please. USR: It's 843-58572-7002. SYS: You can track your package with your tracking number, which is AGZIM5T6KL. Are you happy about my answer? USR: All good. See you. SYS: Have a nice day! Bye.\"]\n",
        "    tseq = [\"SYS: Hello, I am the customer support bot. What can I do for you? USR: Hi. I ordered a mobile phone several days ago but I can't track it. SYS: May I have your full name? USR: James Salim. SYS: Verify your phone number please. USR: 980.322.8737 is my number. SYS: Track your order using your tracking number, 0UOKFRS1GA. Anything else? USR: No more questions. See you. SYS: Bye.\"]\n",
        "    dataset = Dataset.from_dict(\n",
        "        {\n",
        "            \"text\": sequences,\n",
        "        }\n",
        "    )\n",
        "    test_dataset = Dataset.from_dict(\n",
        "        {\n",
        "            \"text\": tseq\n",
        "        }\n",
        "    )\n",
        "    datasets = DatasetDict(\n",
        "        {\n",
        "            \"train\": dataset,\n",
        "            \"test\": test_dataset\n",
        "        }\n",
        "    )\n",
        "    datasets.set_format(\"torch\")\n",
        "    return datasets"
      ],
      "metadata": {
        "id": "b5-QWyX5g6Gu"
      },
      "execution_count": null,
      "outputs": []
    },
    {
      "cell_type": "markdown",
      "source": [
        "#Tokenize the data"
      ],
      "metadata": {
        "id": "WqRq9O8fqJXz"
      }
    },
    {
      "cell_type": "code",
      "source": [
        "def tokenize_string(tokenizer,dataset):\n",
        "    def encode(example: dict):\n",
        "        sequences = example[\"text\"]\n",
        "        return tokenizer(sequences,truncation=True)\n",
        "\n",
        "    return dataset.map(\n",
        "        encode,\n",
        "        batched=True,\n",
        "    )"
      ],
      "metadata": {
        "id": "T9rViS9Kg67y"
      },
      "execution_count": null,
      "outputs": []
    },
    {
      "cell_type": "markdown",
      "source": [
        "#Creating trainloader"
      ],
      "metadata": {
        "id": "JIuKgxMQqgGV"
      }
    },
    {
      "cell_type": "code",
      "source": [
        "dataset = generate_non_random_strings(seed=42)\n",
        "encoded_dataset = tokenize_string(tokenizer, dataset)\n",
        "training_dataset = encoded_dataset.remove_columns([\"text\"])\n",
        "data_collator = DataCollatorForLanguageModeling(tokenizer=tokenizer, mlm=False)\n",
        "train_loader = torch.utils.data.DataLoader(training_dataset[\"train\"], shuffle=True, batch_size=1, collate_fn=data_collator)\n",
        "test_loader = torch.utils.data.DataLoader(training_dataset[\"test\"], shuffle=True, batch_size=1, collate_fn=data_collator)\n",
        "model = AutoModelForCausalLM.from_pretrained(MODEL_NAME, revision=PRE_TRAINING_CHECKPOINT)"
      ],
      "metadata": {
        "colab": {
          "base_uri": "https://localhost:8080/",
          "height": 98,
          "referenced_widgets": [
            "1b87c946d3c444af8ab20216879485a9",
            "14859e58260f4fc8a4af91a11012fa59",
            "b377477f16c24cb38c9f7260331cbb0b",
            "86357ba6c6fa44a482d89baea0031d70",
            "8422214c271845a296a0dbe6d24e02b5",
            "b7c227936f274803a0333d68648d69af",
            "48bf99c3683a4821b995131b2e0ffdb4",
            "7c9a2d48bbb84201857f2f85bbd48850",
            "6fa77c1b1e9a4b2293c171a03a7bd945",
            "6418c8db63ef4048b6a333420dbccb5e",
            "54955d0087f7440f98a1bafdf99fc3c9",
            "99f7d673dd694648b7812f0640126e27",
            "3cbee2569f1d48f993b8d5b761f4fbf9",
            "9df795c5c73f4bb0a04d6239458b2f37",
            "56463fdb6c4a45a4b929d113cf4608ff",
            "d6bd9ba9fd744bf6aa89588c09d331f4",
            "40a9552b209d48b8bfb6bfb07a2fa8f8",
            "ef08ce1444564aeeab5a2f1ec5bbe5b9",
            "a1fa100215d64eac9e3b3bc3ff6adebe",
            "ba4e567b7e494eada16493c7c24741fc",
            "73ce812b466948b0ae69a3c6ca215ea1",
            "0c716b60f7f64af896cc525feda1450e"
          ]
        },
        "id": "woY-JLEThJIv",
        "outputId": "ba7fb89f-8f35-4545-e674-01e402e04772"
      },
      "execution_count": null,
      "outputs": [
        {
          "output_type": "display_data",
          "data": {
            "text/plain": [
              "Map:   0%|          | 0/1 [00:00<?, ? examples/s]"
            ],
            "application/vnd.jupyter.widget-view+json": {
              "version_major": 2,
              "version_minor": 0,
              "model_id": "1b87c946d3c444af8ab20216879485a9"
            }
          },
          "metadata": {}
        },
        {
          "output_type": "stream",
          "name": "stderr",
          "text": [
            "Asking to truncate to max_length but no maximum length is provided and the model has no predefined maximum length. Default to no truncation.\n"
          ]
        },
        {
          "output_type": "display_data",
          "data": {
            "text/plain": [
              "Map:   0%|          | 0/1 [00:00<?, ? examples/s]"
            ],
            "application/vnd.jupyter.widget-view+json": {
              "version_major": 2,
              "version_minor": 0,
              "model_id": "99f7d673dd694648b7812f0640126e27"
            }
          },
          "metadata": {}
        }
      ]
    },
    {
      "cell_type": "markdown",
      "source": [
        "#Initialise model and optimiser for training"
      ],
      "metadata": {
        "id": "AxiW-Eh-qjuV"
      }
    },
    {
      "cell_type": "code",
      "source": [
        "model.to(device)\n",
        "model.train()\n",
        "optimizer = torch.optim.AdamW(model.parameters(), lr=0.002)"
      ],
      "metadata": {
        "id": "YXb3Sad7hYuO"
      },
      "execution_count": null,
      "outputs": []
    },
    {
      "cell_type": "markdown",
      "source": [
        "#Import profiler for tracking the FLOPs"
      ],
      "metadata": {
        "id": "6wt42ClFqZrU"
      }
    },
    {
      "cell_type": "code",
      "source": [
        "from torch.profiler import profile, record_function, ProfilerActivity"
      ],
      "metadata": {
        "id": "XwVQuUhmhDtd"
      },
      "execution_count": null,
      "outputs": []
    },
    {
      "cell_type": "markdown",
      "source": [
        "#Training loop with the profiler as a context manager."
      ],
      "metadata": {
        "id": "-BLkgTcVqopW"
      }
    },
    {
      "cell_type": "markdown",
      "source": [
        "The profiler is enabled using a context manager. It records the time and memory consumption of the models that are wrapped inside it."
      ],
      "metadata": {
        "id": "-F_XvOHFquHk"
      }
    },
    {
      "cell_type": "code",
      "source": [
        "for epoch in range(1):\n",
        "  with profile(activities=[ProfilerActivity.CPU, ProfilerActivity.CUDA],with_flops=True) as prof:\n",
        "    for idx, batch in enumerate(train_loader):\n",
        "      batch = batch.to(device)\n",
        "\n",
        "      inputs = {'input_ids': batch['input_ids'],'attention_mask': batch['attention_mask'],'labels': batch['labels']}\n",
        "      #print(inputs)\n",
        "      outputs = model(**inputs) # output = loss, logits, past_key_values\n",
        "      print(\"Number of model parameters that are used for training\")\n",
        "      print(sum(p.numel() for p in model.parameters()))\n",
        "      #print(outputs)\n",
        "      loss = outputs.loss\n",
        "      loss.backward()\n",
        "      optimizer.step()\n",
        "      optimizer.zero_grad()\n",
        "  print(prof.key_averages().table(sort_by=\"flops\",row_limit=10))\n",
        "  print(\"GFLOPs during training\") #GigaFLOPs\n",
        "  print(sum(k.flops for k in prof.key_averages())/1e9)\n"
      ],
      "metadata": {
        "colab": {
          "base_uri": "https://localhost:8080/"
        },
        "id": "oBv4Mv2phi4k",
        "outputId": "be85211c-a94a-408f-e1ec-cc344862a72b"
      },
      "execution_count": null,
      "outputs": [
        {
          "output_type": "stream",
          "name": "stdout",
          "text": [
            "Number of model parameters that are used for training\n",
            "70426624\n",
            "-------------------------------------------------------  ------------  ------------  ------------  ------------  ------------  ------------  ------------  ------------  ------------  ------------  ------------  \n",
            "                                                   Name    Self CPU %      Self CPU   CPU total %     CPU total  CPU time avg     Self CUDA   Self CUDA %    CUDA total  CUDA time avg    # of Calls  Total MFLOPs  \n",
            "-------------------------------------------------------  ------------  ------------  ------------  ------------  ------------  ------------  ------------  ------------  ------------  ------------  ------------  \n",
            "                                               aten::mm         1.90%       1.155ms         2.83%       1.723ms      33.781us      12.128ms        25.13%      12.128ms     237.798us            51     29444.014  \n",
            "                                            aten::addmm         1.75%       1.064ms         2.58%       1.570ms      65.426us       3.263ms         6.76%       3.263ms     135.942us            24      4831.838  \n",
            "                                              aten::add         0.83%     505.932us         1.20%     727.859us      24.262us     138.910us         0.29%     138.910us       4.630us            30         1.376  \n",
            "                                              aten::mul         1.54%     939.625us         2.27%       1.383ms      25.605us     250.304us         0.52%     250.304us       4.635us            54         1.180  \n",
            "                                            aten::empty         2.34%       1.424ms         2.34%       1.424ms       4.960us       0.000us         0.00%       0.000us       0.000us           287            --  \n",
            "                                          aten::random_         0.07%      43.149us         0.07%      43.149us      21.575us       0.000us         0.00%       0.000us       0.000us             2            --  \n",
            "                                             aten::item         0.30%     185.493us         0.45%     272.229us       1.745us       0.000us         0.00%       2.529us       0.016us           156            --  \n",
            "                              aten::_local_scalar_dense         0.09%      57.700us         0.14%      86.736us       0.556us       2.529us         0.01%       2.529us       0.016us           156            --  \n",
            "enumerate(DataLoader)#_SingleProcessDataLoaderIter._...         3.04%       1.849ms         3.71%       2.255ms       1.128ms       0.000us         0.00%       0.000us       0.000us             2            --  \n",
            "                                         aten::randperm         0.13%      79.980us         0.26%     156.095us      39.024us       0.000us         0.00%       0.000us       0.000us             4            --  \n",
            "-------------------------------------------------------  ------------  ------------  ------------  ------------  ------------  ------------  ------------  ------------  ------------  ------------  ------------  \n",
            "Self CPU time total: 60.835ms\n",
            "Self CUDA time total: 48.260ms\n",
            "\n",
            "GFLOPs during training\n",
            "34.278408192\n"
          ]
        }
      ]
    },
    {
      "cell_type": "code",
      "source": [
        "model.eval()\n",
        "start = time.time()\n",
        "with profile(activities=[ProfilerActivity.CPU, ProfilerActivity.CUDA],with_flops=True) as prof:\n",
        "    for idx, batch in enumerate(test_loader):\n",
        "      batch = batch.to(device)\n",
        "      inputs = {'input_ids': batch['input_ids'],'attention_mask': batch['attention_mask'],'labels': batch['labels']}\n",
        "      #print(inputs)\n",
        "      outputs = model(**inputs) # output = loss, logits, past_key_values\n",
        "print(\"Inference time :\"+str(time.time()-start))\n",
        "#print(prof.key_averages().table(sort_by=\"flops\",row_limit=10))\n",
        "print(\"GFLOPs during testing\") #GigaFLOPs\n",
        "print(sum(k.flops for k in prof.key_averages())/1e9)"
      ],
      "metadata": {
        "id": "hzwTP8IgobIY",
        "colab": {
          "base_uri": "https://localhost:8080/"
        },
        "outputId": "dbe8cdb1-c380-4e01-ea98-1a5313b2c402"
      },
      "execution_count": null,
      "outputs": [
        {
          "output_type": "stream",
          "name": "stdout",
          "text": [
            "Inference time :0.0369417667388916\n",
            "GFLOPs during testing\n",
            "10.444681728\n"
          ]
        }
      ]
    },
    {
      "cell_type": "code",
      "source": [],
      "metadata": {
        "id": "x7A7T7iPzntd"
      },
      "execution_count": null,
      "outputs": []
    }
  ]
}