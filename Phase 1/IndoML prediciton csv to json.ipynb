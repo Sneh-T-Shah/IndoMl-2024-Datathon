{
 "cells": [
  {
   "cell_type": "code",
   "execution_count": 1,
   "metadata": {},
   "outputs": [
    {
     "name": "stdout",
     "output_type": "stream",
     "text": [
      "attribute_test_Sneh.predict has been zipped into submission_new1.zip\n"
     ]
    }
   ],
   "source": [
    "import csv\n",
    "import json\n",
    "import zipfile\n",
    "\n",
    "categories = ['details_Brand', 'L0_category', 'L1_category', 'L2_category', 'L3_category', 'L4_category']\n",
    "\n",
    "# Read the CSV file\n",
    "data = []\n",
    "with open('test_predictions_with_raw_and_labels.csv', 'r') as csvfile:\n",
    "    reader = csv.DictReader(csvfile)\n",
    "    for row in reader:\n",
    "        data.append(row)\n",
    "\n",
    "# Write the JSON output\n",
    "with open('attribute_test_Sneh.predict', 'w') as file:\n",
    "    for item in data:\n",
    "        result = {\"indoml_id\": int(item['indoml_id'])}\n",
    "        for category in categories:\n",
    "            result[category] = item[category]\n",
    "        \n",
    "        file.write(json.dumps(result) + '\\n')\n",
    "\n",
    "file_name = 'attribute_test_Sneh.predict'\n",
    "\n",
    "# Name of the output zip file\n",
    "zip_file_name = 'submission_new1.zip'\n",
    "\n",
    "# Creating a zip file without any directory structure\n",
    "with zipfile.ZipFile(zip_file_name, 'w') as zipf:\n",
    "    zipf.write(file_name, arcname='attribute_test_Sneh.predict')\n",
    "\n",
    "print(f\"{file_name} has been zipped into {zip_file_name}\")"
   ]
  },
  {
   "cell_type": "code",
   "execution_count": null,
   "metadata": {},
   "outputs": [],
   "source": []
  }
 ],
 "metadata": {
  "kernelspec": {
   "display_name": "Python 3",
   "language": "python",
   "name": "python3"
  },
  "language_info": {
   "codemirror_mode": {
    "name": "ipython",
    "version": 3
   },
   "file_extension": ".py",
   "mimetype": "text/x-python",
   "name": "python",
   "nbconvert_exporter": "python",
   "pygments_lexer": "ipython3",
   "version": "3.9.13"
  }
 },
 "nbformat": 4,
 "nbformat_minor": 2
}
